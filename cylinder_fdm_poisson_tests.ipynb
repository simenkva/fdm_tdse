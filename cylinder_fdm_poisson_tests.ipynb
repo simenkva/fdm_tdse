{
 "cells": [
  {
   "cell_type": "code",
   "execution_count": 13,
   "metadata": {},
   "outputs": [],
   "source": [
    "from cylinder_fdm_3d import CylinderFDM\n",
    "from icecream import ic\n",
    "import numpy as np\n",
    "from scipy.sparse.linalg import eigsh, cg, gmres\n",
    "from time import time\n",
    "from matplotlib import pyplot as plt\n",
    "from fft_tdse.simulator import LaserPulse\n",
    "from erfgau import ErfgauPotential\n",
    "from rich.console import Console\n",
    "from rich.table import Table\n",
    "import timeit\n",
    "\n"
   ]
  },
  {
   "cell_type": "code",
   "execution_count": 22,
   "metadata": {},
   "outputs": [
    {
     "name": "stderr",
     "output_type": "stream",
     "text": [
      "ic| self.m_i: array([ 0.,  1., -2., -1.])\n",
      "ic| cylinder_fdm_3d.py:169 in __init__() at 13:00:19.882\n",
      "ic| self.n_r: 100, self.n_z: 200, self.n_m: 4\n",
      "ic| self.r_max: 20, self.z_max: 20\n",
      "ic| self.n_dof: 80000\n"
     ]
    }
   ],
   "source": [
    "n_r = 100\n",
    "n_z = 200\n",
    "n_theta = 4\n",
    "r_max = 20\n",
    "z_max = 20\n",
    "solver = CylinderFDM(r_max, z_max, n_r, n_z, n_theta)\n",
    "L_vec = solver.get_laplacian_fast()\n",
    "rr, zz = solver.get_rz_meshgrid()\n",
    "\n",
    "u = rr**.5 * np.exp(-(rr**2 - zz**2)/2)\n",
    "rhs = -4*np.pi*u.flatten()\n",
    "\n"
   ]
  },
  {
   "cell_type": "code",
   "execution_count": 36,
   "metadata": {},
   "outputs": [],
   "source": [
    "def solve_timing(solve, n_r, n_z, m, number=20):\n",
    "    # n_r = 100\n",
    "    # n_z = 200\n",
    "    n_theta = 2*m + 1\n",
    "    r_max = 20\n",
    "    z_max = 20\n",
    "    solver = CylinderFDM(r_max, z_max, n_r, n_z, n_theta)\n",
    "    L_vec = solver.get_laplacian_fast()\n",
    "    rr, zz = solver.get_rz_meshgrid()\n",
    "\n",
    "    u = rr**(np.abs(m) + .5) * np.exp(-(rr**2 - zz**2)/2)\n",
    "    rhs = -4*np.pi*u.flatten()\n",
    "\n",
    "    ic('system dimension = ', L_vec[0].shape[0])\n",
    "    code = lambda: solve(L_vec[0], rhs)\n",
    "    time = timeit.timeit(code, number=number)\n",
    "    time_per_solve = time/20\n",
    "    ic(time_per_solve)\n",
    "    return time_per_solve"
   ]
  },
  {
   "cell_type": "code",
   "execution_count": 50,
   "metadata": {},
   "outputs": [],
   "source": [
    "#solve = lambda A, b: cg(A, b, tol=1e-10, maxiter=1000)\n",
    "\n",
    "def timing_table(solve):\n",
    "\n",
    "    n_list = np.array([100, 200, 400])\n",
    "    m_list = np.array([0, 1, 4])\n",
    "\n",
    "    times = np.zeros((len(n_list), len(m_list)))\n",
    "    for j,n in enumerate(n_list):\n",
    "        for i,m in enumerate(m_list):\n",
    "            times[j,i] = solve_timing(solve, n, n, m, number=10)\n",
    "\n",
    "    table = Table('Timings')\n",
    "    for m in m_list:\n",
    "        table.add_column(f'm = {m}')\n",
    "    for j,n in enumerate(n_list):\n",
    "        table.add_row(f'n = {n}', *map(str,times[j]))\n",
    "\n",
    "    display(table)\n",
    "    return times, table\n"
   ]
  },
  {
   "cell_type": "code",
   "execution_count": 51,
   "metadata": {},
   "outputs": [
    {
     "name": "stderr",
     "output_type": "stream",
     "text": [
      "ic| self.m_i: array([0.])\n",
      "ic| cylinder_fdm_3d.py:169 in __init__() at 13:18:47.101\n",
      "ic| self.n_r: 100, self.n_z: 100, self.n_m: 1\n",
      "ic| self.r_max: 20, self.z_max: 20\n",
      "ic| self.n_dof: 10000\n",
      "ic| 'system dimension = ', L_vec[0].shape[0]: 10000\n",
      "ic| time_per_solve: 0.014824270794633776\n",
      "ic| self.m_i: array([ 0.,  1., -1.])\n",
      "ic| cylinder_fdm_3d.py:169 in __init__() at 13:18:47.436\n",
      "ic| self.n_r: 100, self.n_z: 100, self.n_m: 3\n",
      "ic| self.r_max: 20, self.z_max: 20\n",
      "ic| self.n_dof: 30000\n",
      "ic| 'system dimension = ', L_vec[0].shape[0]: 10000\n",
      "ic| time_per_solve: 0.013676529144868254\n",
      "ic| self.m_i: array([ 0.,  1.,  2.,  3.,  4., -4., -3., -2., -1.])\n",
      "ic| cylinder_fdm_3d.py:169 in __init__() at 13:18:47.753\n",
      "ic| self.n_r: 100, self.n_z: 100, self.n_m: 9\n",
      "ic| self.r_max: 20, self.z_max: 20\n",
      "ic| self.n_dof: 90000\n",
      "ic| 'system dimension = ', L_vec[0].shape[0]: 10000\n",
      "ic| time_per_solve: 0.013347879203502088\n",
      "ic| self.m_i: array([0.])\n",
      "ic| cylinder_fdm_3d.py:169 in __init__() at 13:18:48.099\n",
      "ic| self.n_r: 200, self.n_z: 200, self.n_m: 1\n",
      "ic| self.r_max: 20, self.z_max: 20\n",
      "ic| self.n_dof: 40000\n",
      "ic| 'system dimension = ', L_vec[0].shape[0]: 40000\n",
      "ic| time_per_solve: 0.1798997958539985\n",
      "ic| self.m_i: array([ 0.,  1., -1.])\n",
      "ic| cylinder_fdm_3d.py:169 in __init__() at 13:18:51.870\n",
      "ic| self.n_r: 200, self.n_z: 200, self.n_m: 3\n",
      "ic| self.r_max: 20, self.z_max: 20\n",
      "ic| self.n_dof: 120000\n",
      "ic| 'system dimension = ', L_vec[0].shape[0]: 40000\n",
      "ic| time_per_solve: 0.22754063749453052\n",
      "ic| self.m_i: array([ 0.,  1.,  2.,  3.,  4., -4., -3., -2., -1.])\n",
      "ic| cylinder_fdm_3d.py:169 in __init__() at 13:18:56.582\n",
      "ic| self.n_r: 200, self.n_z: 200, self.n_m: 9\n",
      "ic| self.r_max: 20, self.z_max: 20\n",
      "ic| self.n_dof: 360000\n",
      "ic| 'system dimension = ', L_vec[0].shape[0]: 40000\n",
      "ic| time_per_solve: 0.21507504375185818\n",
      "ic| self.m_i: array([0.])\n",
      "ic| cylinder_fdm_3d.py:169 in __init__() at 13:19:01.125\n",
      "ic| self.n_r: 400, self.n_z: 400, self.n_m: 1\n",
      "ic| self.r_max: 20, self.z_max: 20\n",
      "ic| self.n_dof: 160000\n",
      "ic| 'system dimension = ', L_vec[0].shape[0]: 160000\n",
      "ic| time_per_solve: 0.9035920478985645\n",
      "ic| self.m_i: array([ 0.,  1., -1.])\n",
      "ic| cylinder_fdm_3d.py:169 in __init__() at 13:19:19.330\n",
      "ic| self.n_r: 400, self.n_z: 400, self.n_m: 3\n",
      "ic| self.r_max: 20, self.z_max: 20\n",
      "ic| self.n_dof: 480000\n",
      "ic| 'system dimension = ', L_vec[0].shape[0]: 160000\n",
      "ic| time_per_solve: 0.9684639250044711\n",
      "ic| self.m_i: array([ 0.,  1.,  2.,  3.,  4., -4., -3., -2., -1.])\n",
      "ic| cylinder_fdm_3d.py:169 in __init__() at 13:19:38.979\n",
      "ic| self.n_r: 400, self.n_z: 400, self.n_m: 9\n",
      "ic| self.r_max: 20, self.z_max: 20\n",
      "ic| self.n_dof: 1440000\n",
      "ic| 'system dimension = ', L_vec[0].shape[0]: 160000\n",
      "ic| time_per_solve: 1.0313564270501956\n"
     ]
    },
    {
     "data": {
      "text/html": [
       "<pre style=\"white-space:pre;overflow-x:auto;line-height:normal;font-family:Menlo,'DejaVu Sans Mono',consolas,'Courier New',monospace\">┏━━━━━━━━━┳━━━━━━━━━━━━━━━━━━━━━━┳━━━━━━━━━━━━━━━━━━━━━━┳━━━━━━━━━━━━━━━━━━━━━━┓\n",
       "┃<span style=\"font-weight: bold\"> Timings </span>┃<span style=\"font-weight: bold\"> m = 0                </span>┃<span style=\"font-weight: bold\"> m = 1                </span>┃<span style=\"font-weight: bold\"> m = 4                </span>┃\n",
       "┡━━━━━━━━━╇━━━━━━━━━━━━━━━━━━━━━━╇━━━━━━━━━━━━━━━━━━━━━━╇━━━━━━━━━━━━━━━━━━━━━━┩\n",
       "│ n = 100 │ 0.014824270794633776 │ 0.013676529144868254 │ 0.013347879203502088 │\n",
       "│ n = 200 │ 0.1798997958539985   │ 0.22754063749453052  │ 0.21507504375185818  │\n",
       "│ n = 400 │ 0.9035920478985645   │ 0.9684639250044711   │ 1.0313564270501956   │\n",
       "└─────────┴──────────────────────┴──────────────────────┴──────────────────────┘\n",
       "</pre>\n"
      ],
      "text/plain": [
       "┏━━━━━━━━━┳━━━━━━━━━━━━━━━━━━━━━━┳━━━━━━━━━━━━━━━━━━━━━━┳━━━━━━━━━━━━━━━━━━━━━━┓\n",
       "┃\u001b[1m \u001b[0m\u001b[1mTimings\u001b[0m\u001b[1m \u001b[0m┃\u001b[1m \u001b[0m\u001b[1mm = 0               \u001b[0m\u001b[1m \u001b[0m┃\u001b[1m \u001b[0m\u001b[1mm = 1               \u001b[0m\u001b[1m \u001b[0m┃\u001b[1m \u001b[0m\u001b[1mm = 4               \u001b[0m\u001b[1m \u001b[0m┃\n",
       "┡━━━━━━━━━╇━━━━━━━━━━━━━━━━━━━━━━╇━━━━━━━━━━━━━━━━━━━━━━╇━━━━━━━━━━━━━━━━━━━━━━┩\n",
       "│ n = 100 │ 0.014824270794633776 │ 0.013676529144868254 │ 0.013347879203502088 │\n",
       "│ n = 200 │ 0.1798997958539985   │ 0.22754063749453052  │ 0.21507504375185818  │\n",
       "│ n = 400 │ 0.9035920478985645   │ 0.9684639250044711   │ 1.0313564270501956   │\n",
       "└─────────┴──────────────────────┴──────────────────────┴──────────────────────┘\n"
      ]
     },
     "metadata": {},
     "output_type": "display_data"
    },
    {
     "data": {
      "text/plain": [
       "(array([[0.01482427, 0.01367653, 0.01334788],\n",
       "        [0.1798998 , 0.22754064, 0.21507504],\n",
       "        [0.90359205, 0.96846393, 1.03135643]]),\n",
       " <rich.table.Table at 0x1375cefb0>)"
      ]
     },
     "execution_count": 51,
     "metadata": {},
     "output_type": "execute_result"
    }
   ],
   "source": [
    "solve = lambda A, b: cg(A, b, tol=1e-10, maxiter=1000)\n",
    "timing_table(solve)\n"
   ]
  },
  {
   "cell_type": "code",
   "execution_count": null,
   "metadata": {},
   "outputs": [],
   "source": []
  }
 ],
 "metadata": {
  "kernelspec": {
   "display_name": "base",
   "language": "python",
   "name": "python3"
  },
  "language_info": {
   "codemirror_mode": {
    "name": "ipython",
    "version": 3
   },
   "file_extension": ".py",
   "mimetype": "text/x-python",
   "name": "python",
   "nbconvert_exporter": "python",
   "pygments_lexer": "ipython3",
   "version": "3.10.12"
  }
 },
 "nbformat": 4,
 "nbformat_minor": 2
}
