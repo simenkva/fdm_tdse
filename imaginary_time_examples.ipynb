{
 "cells": [
  {
   "cell_type": "code",
   "execution_count": 9,
   "metadata": {},
   "outputs": [],
   "source": [
    "import numpy as np\n",
    "from matplotlib import pyplot as plt\n",
    "from scipy.special import erf\n",
    "from scipy.sparse import spdiags\n",
    "from scipy.sparse.linalg import eigsh\n",
    "import time\n",
    "import tqdm\n",
    "from Laplacians import CylinderLaplacian\n",
    "from poisson_solvers import PoissonCylindrical\n",
    "from FockMatrices import CylinderFockMatrix"
   ]
  },
  {
   "cell_type": "code",
   "execution_count": 10,
   "metadata": {},
   "outputs": [],
   "source": [
    "def Verfgau(d, Z=1.0, mu=1.0):\n",
    "    \"\"\"\n",
    "    Args:\n",
    "    d: d=|r-A| where A is the nucleus position\n",
    "    Z: nuclear charge\n",
    "    mu: screening parameter\n",
    "    \"\"\"\n",
    "    c = 0.923 + 1.568 * mu\n",
    "    alpha = 0.2411 + 1.405 * mu\n",
    "    long_range = erf(mu * Z * d) / (Z * d)\n",
    "    return -(Z**2) * (\n",
    "        c * np.exp(-(alpha**2) * Z**2 * d**2) + long_range\n",
    "    )"
   ]
  },
  {
   "cell_type": "code",
   "execution_count": 11,
   "metadata": {},
   "outputs": [],
   "source": [
    "rho_max = 15\n",
    "drho = 0.1\n",
    "n_rho = int(rho_max / drho) - 1\n",
    "rho = np.linspace(0, rho_max, n_rho + 2)\n",
    "rho_inner = rho[1:-1]\n",
    "\n",
    "z_max = 15\n",
    "dz = 0.1\n",
    "n_z = int(2 * z_max / dz) - 1\n",
    "z = np.linspace(-z_max, z_max, n_z + 2)\n",
    "z_inner = z[1:-1]\n",
    "\n",
    "Laplacian = CylinderLaplacian(rho, z, m=0)\n",
    "Poisson = PoissonCylindrical(Laplacian, rho, z)"
   ]
  },
  {
   "cell_type": "code",
   "execution_count": 12,
   "metadata": {},
   "outputs": [
    {
     "name": "stderr",
     "output_type": "stream",
     "text": [
      "100%|██████████| 9999/9999 [00:19<00:00, 520.55it/s]\n"
     ]
    },
    {
     "name": "stdout",
     "output_type": "stream",
     "text": [
      "Energy imaginary time : -0.49825781\n",
      "Energy diagonalization: -0.49826612\n",
      "E_imag-E_diag         : 0.00000832\n"
     ]
    },
    {
     "data": {
      "image/png": "[encoded data removed]",
      "text/plain": [
       "<Figure size 432x288 with 1 Axes>"
      ]
     },
     "metadata": {
      "needs_background": "light"
     },
     "output_type": "display_data"
    }
   ],
   "source": [
    "\"\"\"\n",
    "Solve for the Hydrogen atom using imaginary time propagation and compare with exact diagonalization.\n",
    "\"\"\"\n",
    "V = np.zeros((n_rho, n_z))\n",
    "psi0 = np.zeros((n_rho, n_z))\n",
    "# Setup potential and initial guess for the orbitals.\n",
    "for i in range(n_rho):\n",
    "    for j in range(n_z):\n",
    "        r = np.sqrt(rho_inner[i] ** 2 + z_inner[j] ** 2)\n",
    "        V[i, j] = Verfgau(r, Z=1, mu=1)\n",
    "        psi0[i, j] = np.sqrt(rho_inner[i]) * np.exp(-0.75 * r)\n",
    "\n",
    "V = V.flatten()\n",
    "H = -0.5 * Laplacian.L + spdiags([V], diags=[0])\n",
    "# Normalize the initial guess.\n",
    "psi0 = psi0.ravel()\n",
    "norm_psi0 = np.sum(np.abs(psi0) ** 2) * drho * dz\n",
    "psi0 /= np.sqrt(norm_psi0)\n",
    "\n",
    "dt = 0.001\n",
    "n_t = int(1e4)\n",
    "imag_time = np.linspace(0, n_t * dt, n_t)\n",
    "\n",
    "energy = np.zeros(n_t)\n",
    "\n",
    "for n in tqdm.tqdm(range(n_t - 1)):\n",
    "    energy[n] = np.sum(psi0 * H.dot(psi0)) * drho * dz\n",
    "    k1 = -H.dot(psi0)\n",
    "    k2 = -H.dot(psi0 + 0.5 * dt * k1)\n",
    "    k3 = -H.dot(psi0 + 0.5 * dt * k2)\n",
    "    k4 = -H.dot(psi0 + dt * k3)\n",
    "    psi0 += dt / 6 * (k1 + 2 * k2 + 2 * k3 + k4)\n",
    "    psi0 /= np.sqrt(np.sum(np.abs(psi0) ** 2) * drho * dz)\n",
    "\n",
    "energy[n_t - 1] = np.sum(psi0 * H.dot(psi0)) * drho * dz\n",
    "\n",
    "# Solve by diagonalizing the Hamiltonian for comparison with imaginary time propagation.\n",
    "eps, C = eigsh(H, k=5, which=\"SA\")\n",
    "\n",
    "\n",
    "print(f\"Energy imaginary time : {energy[-1]:.8f}\")\n",
    "print(f\"Energy diagonalization: {eps[0]:.8f}\")\n",
    "print(f\"E_imag-E_diag         : {np.abs(energy[-1] - eps[0]):.8f}\")\n",
    "\n",
    "plt.figure()\n",
    "plt.plot(imag_time, energy)\n",
    "plt.xlabel(\"Imaginary time\")\n",
    "plt.ylabel(r\"$E(\\tau)$\")\n",
    "plt.show()"
   ]
  },
  {
   "cell_type": "code",
   "execution_count": 13,
   "metadata": {},
   "outputs": [
    {
     "name": "stderr",
     "output_type": "stream",
     "text": [
      "100%|██████████| 9999/9999 [01:43<00:00, 96.36it/s] \n"
     ]
    },
    {
     "name": "stdout",
     "output_type": "stream",
     "text": [
      "Energy imaginary time : -0.59438627\n"
     ]
    },
    {
     "data": {
      "image/png": "[encoded data removed]",
      "text/plain": [
       "<Figure size 432x288 with 1 Axes>"
      ]
     },
     "metadata": {
      "needs_background": "light"
     },
     "output_type": "display_data"
    }
   ],
   "source": [
    "\"\"\"\n",
    "Solve for the H2 molecule with an internuclear distance of 0.7 a.u. using imaginary time propagation.\n",
    "\"\"\"\n",
    "\n",
    "V_H2 = np.zeros((n_rho, n_z))\n",
    "V_H2 = np.zeros((n_rho, n_z))\n",
    "psi_H2 = np.zeros((n_rho, n_z))\n",
    "Z = 1\n",
    "dist = 0.7\n",
    "# Setup potential and initial guess for the orbitals.\n",
    "for i in range(n_rho):\n",
    "    for j in range(n_z):\n",
    "        r_p = np.sqrt(rho_inner[i] ** 2 + (z_inner[j] - dist) ** 2)\n",
    "        r_m = np.sqrt(rho_inner[i] ** 2 + (z_inner[j] + dist) ** 2)\n",
    "        V_H2[i, j] = Verfgau(r_p, Z) + Verfgau(r_m, Z)\n",
    "        psi_H2[i, j] = np.sqrt(rho_inner[i]) * np.exp(-Z * r_p) + np.sqrt(\n",
    "            rho_inner[i]\n",
    "        ) * np.exp(-Z * r_m)\n",
    "\n",
    "V_H2 = V_H2.flatten()\n",
    "H = -0.5 * Laplacian.L + spdiags([V_H2], diags=[0])\n",
    "\n",
    "# Normalize the initial guess.\n",
    "psi_H2 = psi_H2.ravel()\n",
    "norm_psi_H2 = np.sum(np.abs(psi_H2) ** 2) * drho * dz\n",
    "psi_H2 /= np.sqrt(norm_psi_H2)\n",
    "\n",
    "dt = 0.001\n",
    "n_t = int(1e4)\n",
    "imag_time = np.linspace(0, n_t * dt, n_t)\n",
    "energy_H2 = np.zeros(n_t)\n",
    "\n",
    "# For two-particle systems there is no exchange term.\n",
    "def _F_psi(psi, W_direct):\n",
    "    return H.dot(psi) + W_direct * psi\n",
    "\n",
    "\n",
    "for n in tqdm.tqdm(range(n_t - 1)):\n",
    "    # Compute direct potential\n",
    "    P = np.abs(psi_H2) ** 2 / np.sqrt(2 * np.pi)\n",
    "    P = P.reshape((n_rho, n_z))\n",
    "    P = np.einsum(\"i, ij->ij\", 1 / rho_inner, P)\n",
    "    f = -4 * np.pi * np.einsum(\"i, ij->ij\", np.sqrt(rho_inner), P)\n",
    "    w_ii = Poisson.solve(f, inhomgenous_dirichlet=True)\n",
    "    W_ii_direct = np.einsum(\"i, ij->ij\", 1 / np.sqrt(rho_inner), w_ii)\n",
    "    W_direct = W_ii_direct.ravel() / np.sqrt(2 * np.pi)\n",
    "\n",
    "    F_psi = _F_psi(psi_H2, W_direct)\n",
    "    energy_H2[n] = np.sum(psi_H2 * F_psi) * drho * dz\n",
    "\n",
    "    k1 = -F_psi\n",
    "    k2 = -_F_psi(psi_H2 + 0.5 * dt * k1, W_direct)\n",
    "    k3 = -_F_psi(psi_H2 + 0.5 * dt * k2, W_direct)\n",
    "    k4 = -_F_psi(psi_H2 + dt * k3, W_direct)\n",
    "    psi_H2 += dt / 6 * (k1 + 2 * k2 + 2 * k3 + k4)\n",
    "    psi_H2 /= np.sqrt(np.sum(np.abs(psi_H2) ** 2) * drho * dz)\n",
    "\n",
    "F_psi = _F_psi(psi_H2, W_direct)\n",
    "energy_H2[n_t - 1] = np.sum(psi_H2 * F_psi) * drho * dz\n",
    "\n",
    "print(f\"Energy imaginary time : {energy_H2[-1]:.8f}\")\n",
    "\n",
    "plt.figure()\n",
    "plt.plot(imag_time, energy_H2)\n",
    "plt.xlabel(\"Imaginary time\")\n",
    "plt.ylabel(r\"$E(\\tau)$\")\n",
    "plt.show()"
   ]
  },
  {
   "cell_type": "code",
   "execution_count": 14,
   "metadata": {},
   "outputs": [
    {
     "name": "stderr",
     "output_type": "stream",
     "text": [
      "100%|██████████| 9999/9999 [04:16<00:00, 38.95it/s]\n"
     ]
    },
    {
     "name": "stdout",
     "output_type": "stream",
     "text": [
      "Imag time final energy: -0.29522, -2.36165\n"
     ]
    },
    {
     "data": {
      "image/png": "[encoded data removed]",
      "text/plain": [
       "<Figure size 432x288 with 1 Axes>"
      ]
     },
     "metadata": {
      "needs_background": "light"
     },
     "output_type": "display_data"
    }
   ],
   "source": [
    "\"\"\"\n",
    "Solve for LiH molecule with an internuclear distance of 1.525 a.u. using imaginary time propagation.\n",
    "\"\"\"\n",
    "\n",
    "V = np.zeros((n_rho, n_z))\n",
    "psi0 = np.zeros((n_rho, n_z))\n",
    "psi1 = np.zeros((n_rho, n_z))\n",
    "Z1 = 3.0\n",
    "Z2 = 1.0\n",
    "dist = 1.525\n",
    "\n",
    "# Setup potential and initial guess for the orbitals.\n",
    "for i in range(n_rho):\n",
    "    for j in range(n_z):\n",
    "        r_p = np.sqrt(rho_inner[i] ** 2 + (z_inner[j] - dist) ** 2)\n",
    "        r_m = np.sqrt(rho_inner[i] ** 2 + (z_inner[j] + dist) ** 2)\n",
    "        V[i, j] = Verfgau(r_p, Z=Z1) + Verfgau(r_m, Z=Z2)\n",
    "        psi0[i, j] = np.sqrt(rho_inner[i]) * np.exp(-Z1 * r_p)\n",
    "        psi1[i, j] = np.sqrt(rho_inner[i]) * np.exp(-Z2 * r_m)\n",
    "\n",
    "V = V.flatten()\n",
    "Fock = CylinderFockMatrix(Laplacian, V)\n",
    "\n",
    "##############################################################################\n",
    "# Orthonormalize the orbitals\n",
    "Psi = np.zeros((2, n_rho * n_z))\n",
    "norm_psi0 = np.sum(np.abs(psi0.ravel()) ** 2) * drho * dz\n",
    "psi0 /= np.sqrt(norm_psi0)\n",
    "\n",
    "norm_psi1 = np.sum(np.abs(psi1.ravel()) ** 2) * drho * dz\n",
    "psi1 /= np.sqrt(norm_psi1)\n",
    "\n",
    "Psi[0] = psi0.ravel()\n",
    "Psi[1] = psi1.ravel()\n",
    "\n",
    "S = np.zeros((2, 2))\n",
    "for i in range(2):\n",
    "    for j in range(2):\n",
    "        S[i, j] = np.sum(Psi[i].conj() * Psi[j]) * drho * dz\n",
    "eps, C = np.linalg.eigh(S)\n",
    "Psi = np.dot(C, Psi)\n",
    "for i in range(2):\n",
    "    Psi[i] /= np.sqrt(np.sum(np.abs(Psi[i]) ** 2) * drho * dz)\n",
    "##############################################################################\n",
    "dt = 0.001\n",
    "n_t = int(1e4)\n",
    "imag_time = np.linspace(0, n_t * dt, n_t)\n",
    "energy = np.zeros((2, n_t))\n",
    "##############################################################################\n",
    "\n",
    "W_direct = np.zeros((2, n_rho * n_z))\n",
    "for n in tqdm.tqdm(range(n_t - 1)):\n",
    "\n",
    "    # Compute direct potential\n",
    "    for i in range(2):\n",
    "        P = np.abs(Psi[i]) ** 2 / np.sqrt(2 * np.pi)\n",
    "        P = P.reshape((n_rho, n_z))\n",
    "        P = np.einsum(\"i, ij->ij\", 1 / rho_inner, P)\n",
    "        f = -4 * np.pi * np.einsum(\"i, ij->ij\", np.sqrt(rho_inner), P)\n",
    "        w_ii = Poisson.solve(f, inhomgenous_dirichlet=True)\n",
    "        W_ii_direct = np.einsum(\"i, ij->ij\", 1 / np.sqrt(rho_inner), w_ii)\n",
    "        W_direct[i] = W_ii_direct.ravel()\n",
    "\n",
    "    # Compute exchange potential\n",
    "    P_10 = Psi[1] * Psi[0] / np.sqrt(2 * np.pi)\n",
    "    P_10 = P_10.reshape((n_rho, n_z))\n",
    "    P_10 = np.einsum(\"i, ij->ij\", 1 / rho_inner, P_10)\n",
    "    f = -4 * np.pi * np.einsum(\"i, ij->ij\", np.sqrt(rho_inner), P_10)\n",
    "    w_10 = Poisson.solve(f, inhomgenous_dirichlet=False)\n",
    "    W_10 = np.einsum(\"i, ij->ij\", 1 / np.sqrt(rho_inner), w_10)\n",
    "    W_10 = W_10.ravel()\n",
    "\n",
    "    F_psi = Fock.F_Psi(Psi, W_direct, W_10)\n",
    "    energy[0, n] = np.sum(Psi[0] * F_psi[0]) * drho * dz\n",
    "    energy[1, n] = np.sum(Psi[1] * F_psi[1]) * drho * dz\n",
    "\n",
    "    k1 = -F_psi\n",
    "    k2 = -Fock.F_Psi(Psi + 0.5 * dt * k1, W_direct, W_10)\n",
    "    k3 = -Fock.F_Psi(Psi + 0.5 * dt * k2, W_direct, W_10)\n",
    "    k4 = -Fock.F_Psi(Psi + dt * k3, W_direct, W_10)\n",
    "    Psi += dt / 6 * (k1 + 2 * k2 + 2 * k3 + k4)\n",
    "\n",
    "    S = np.zeros((2, 2))\n",
    "    for i in range(2):\n",
    "        for j in range(2):\n",
    "            S[i, j] = np.sum(Psi[i].conj() * Psi[j]) * drho * dz\n",
    "    eps, C = np.linalg.eigh(S)\n",
    "    Psi = np.dot(C, Psi)\n",
    "    for i in range(2):\n",
    "        Psi[i] /= np.sqrt(np.sum(np.abs(Psi[i]) ** 2) * drho * dz)\n",
    "\n",
    "\n",
    "# Compute direct potential\n",
    "for i in range(2):\n",
    "    P = np.abs(Psi[i]) ** 2 / np.sqrt(2 * np.pi)\n",
    "    P = P.reshape((n_rho, n_z))\n",
    "    P = np.einsum(\"i, ij->ij\", 1 / rho_inner, P)\n",
    "    f = -4 * np.pi * np.einsum(\"i, ij->ij\", np.sqrt(rho_inner), P)\n",
    "    w_ii = Poisson.solve(f, inhomgenous_dirichlet=True)\n",
    "    W_ii_direct = np.einsum(\"i, ij->ij\", 1 / np.sqrt(rho_inner), w_ii)\n",
    "    W_direct[i] = W_ii_direct.ravel()\n",
    "\n",
    "# Compute exchange potential\n",
    "P_10 = Psi[1] * Psi[0] / np.sqrt(2 * np.pi)\n",
    "P_10 = P_10.reshape((n_rho, n_z))\n",
    "P_10 = np.einsum(\"i, ij->ij\", 1 / rho_inner, P_10)\n",
    "f = -4 * np.pi * np.einsum(\"i, ij->ij\", np.sqrt(rho_inner), P_10)\n",
    "w_10 = Poisson.solve(f, inhomgenous_dirichlet=False)\n",
    "W_10 = np.einsum(\"i, ij->ij\", 1 / np.sqrt(rho_inner), w_10)\n",
    "W_10 = W_10.ravel()\n",
    "\n",
    "F_psi = Fock.F_Psi(Psi, W_direct, W_10)\n",
    "energy[0, n_t - 1] = np.sum(Psi[0] * F_psi[0]) * drho * dz\n",
    "energy[1, n_t - 1] = np.sum(Psi[1] * F_psi[1]) * drho * dz\n",
    "\n",
    "print(f\"Imag time final energy: {energy[0,-1]:.5f}, {energy[1,-1]:.5f}\")\n",
    "\n",
    "plt.figure()\n",
    "plt.plot(imag_time, energy[0, :])\n",
    "plt.plot(imag_time, energy[1, :])\n",
    "plt.xlabel(\"Imaginary time\")\n",
    "plt.ylabel(r\"$E(\\tau)$\")\n",
    "plt.show()"
   ]
  },
  {
   "cell_type": "code",
   "execution_count": null,
   "metadata": {},
   "outputs": [],
   "source": []
  },
  {
   "cell_type": "code",
   "execution_count": null,
   "metadata": {},
   "outputs": [],
   "source": []
  }
 ],
 "metadata": {
  "kernelspec": {
   "display_name": "Python 3 (ipykernel)",
   "language": "python",
   "name": "python3"
  },
  "language_info": {
   "codemirror_mode": {
    "name": "ipython",
    "version": 3
   },
   "file_extension": ".py",
   "mimetype": "text/x-python",
   "name": "python",
   "nbconvert_exporter": "python",
   "pygments_lexer": "ipython3",
   "version": "3.8.3"
  }
 },
 "nbformat": 4,
 "nbformat_minor": 2
}
