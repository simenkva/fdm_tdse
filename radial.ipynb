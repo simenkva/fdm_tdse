{
 "cells": [
  {
   "cell_type": "code",
   "execution_count": 184,
   "metadata": {},
   "outputs": [],
   "source": [
    "import numpy as np\n",
    "import matplotlib.pyplot as plt\n",
    "from icecream import ic\n",
    "from scipy.sparse import csr_matrix\n",
    "from scipy.sparse.linalg import LinearOperator\n",
    "\n",
    "%matplotlib widget\n"
   ]
  },
  {
   "cell_type": "code",
   "execution_count": 185,
   "metadata": {},
   "outputs": [],
   "source": [
    "def radial_fdm_laplacian(r_max, n, left_bc = 'neumann_simple'):\n",
    "    \"\"\"Generate laplacian in 2d polar coordinates, radial part.\n",
    "    \n",
    "    Discretize [0, r_max] with n+2 points, and apply\n",
    "    neumann conditions on r=0 and Dirichlet on r=r_max, \n",
    "    resulting in an nxn matrix for the inner grid points.\n",
    "    \n",
    "    Args:\n",
    "        r_max (float): right endpoint\n",
    "        n (int): number of inner grid points\n",
    "        left_bc (str, optional): 'neumann' for fancy neumann BC, 'neumann_simple' for simple Neumann, else dirichlet.\n",
    "    \n",
    "    Returns:\n",
    "        ndarray: Laplacian as CRS matrix\n",
    "        r: radial grid with endpoints\n",
    "        G: transition matrix from inner to global grid\n",
    "    \n",
    "    \"\"\"\n",
    "    r = np.linspace(0, r_max, n+2)\n",
    "    L = np.zeros((n,n+2))\n",
    "    h = r[1]-r[0]\n",
    "    \n",
    "    for i in range(1,n+1):\n",
    "        L[i-1,i+1] = (r[i]+h/2)/r[i]\n",
    "        L[i-1,i-1] = (r[i]-h/2)/r[i]\n",
    "        L[i-1,i] = -2 #-(r[i] + h/2)/r[i] - (r[i] - h/2)/r[i]\n",
    "    \n",
    "    G = np.zeros((n+2,n))\n",
    "    G[1:-1,:] = np.eye(n)\n",
    "    if left_bc == 'neumann_simple':\n",
    "        G[0,0] = 1.0\n",
    "\n",
    "    elif left_bc == 'neumann':\n",
    "        G[0,0] = 1.0\n",
    "        G[0,0] = 4/3\n",
    "        G[0,1] = -1/3\n",
    "    else:\n",
    "        pass\n",
    "    \n",
    "    L1 = L @ G / h**2\n",
    "    return L1, r, G"
   ]
  },
  {
   "cell_type": "code",
   "execution_count": 195,
   "metadata": {},
   "outputs": [],
   "source": [
    "class polar_fdm_2d:\n",
    "    \"\"\"Class for 2d polar FDM SE solver.\n",
    "    \n",
    "    Attributes:\n",
    "        r_max (float): right endpoint\n",
    "        n_r (int): number of inner grid points\n",
    "        m_max (int): maximum angular momentum\n",
    "        L_neumann (ndarray): radial laplacian with Neumann BC\n",
    "        L_0 (ndarray): radial laplacian with Dirichlet BC\n",
    "        r0 (ndarray): radial grid with endpoints\n",
    "        r_inner (ndarray): inner radial grid points\n",
    "        G_neumann (ndarray): transition matrix from inner to global grid with Neumann BC\n",
    "        G_0 (ndarray): transition matrix from inner to global grid with Dirichlet BC\n",
    "        T_m (list of ndarray): Kinetic energy for each |m|\n",
    "        V_m (list of ndarray): list of potential matrices V(r) for each m.\n",
    "        V_m_max (int): number of potential matrices\n",
    "    \"\"\"\n",
    "    \n",
    "    def __init__(self, r_max, n_r, m_max):\n",
    "        \"\"\"Initialize the polar FDM grid.\n",
    "        \n",
    "        Args:\n",
    "            r_max (float): right endpoint\n",
    "            n_r (int): number of inner grid points\n",
    "            m_max (int): maximum angular momentum\n",
    "        \"\"\"\n",
    "        self.r_max = r_max\n",
    "        self.n_r = n_r\n",
    "        self.m_max = m_max\n",
    "\n",
    "        # Set up radial laplacian for Neumann and Dirichlet BC\n",
    "        self.L_neumann, self.r0, self.G_neumann = radial_fdm_laplacian(r_max, n_r, left_bc = 'neumann_simple')\n",
    "        self.L_neumann = csr_matrix(self.L_neumann)\n",
    "        self.L_0, _, self.G_0 = radial_fdm_laplacian(r_max, n_r, left_bc = 'dirichlet')\n",
    "        self.L_0 = csr_matrix(self.L_0)\n",
    "        self.r_inner = self.r0[1:-1]        \n",
    "        \n",
    "        # Set up Kinetic energy for each |m|\n",
    "        self.T_m = []\n",
    "        for m in range(m_max+1):\n",
    "            if m == 0:\n",
    "                self.T_m.append( -0.5*self.L_neumann  )\n",
    "            else:\n",
    "                self.T_m.append( -0.5*self.L_0 + np.diag(.5*m**2/self.r_inner**2) )\n",
    "                \n",
    "        \n",
    "        # Set wavefunction shape\n",
    "        self.shape = (n_r, 2*m_max + 1)\n",
    "        # Set number of degrees of freedom\n",
    "        self.n_dof = np.prod(self.shape)\n",
    "\n",
    "            \n",
    "\n",
    "    def set_potential(self, V_m):\n",
    "        \"\"\" Set the scalar potential.\n",
    "        \n",
    "        \n",
    "        Args:\n",
    "            V_m (list of ndarray): list of potential matrices V(r) for each m.\n",
    "        \"\"\"\n",
    "        self.V_m = V_m\n",
    "        self.V_m_max = (len(V_m) - 1)//2\n",
    "        ic(self.V_m_max)\n",
    "\n",
    "\n",
    "    def apply_weight(self, psi):\n",
    "        \"\"\"RHS of the SE with weight function, generalized EVP\"\"\"\n",
    "        \n",
    "        result = np.zeros(self.shape, dtype=np.complex128)\n",
    "        for m in range(-self.m_max, self.m_max+1):\n",
    "            result[:,m+self.m_max] = self.r_inner * psi[:,m+self.m_max] \n",
    "            \n",
    "        return result\n",
    "        \n",
    "    def apply_hamiltonian(self, psi, gen_evp=False):\n",
    "        \"\"\"Apply the Hamiltonian to a wavefunction.\n",
    "        \"\"\"\n",
    "        \n",
    "        \n",
    "        assert(psi.shape == self.shape)\n",
    "        result = np.zeros(self.shape, dtype=np.complex128)\n",
    "        \n",
    "        for m in range(-self.m_max, self.m_max+1):\n",
    "            m_index = m + self.m_max\n",
    "            #ic(m, m_index)\n",
    "            result[:,m_index] = self.T_m[abs(m)] @ psi[:,m_index] \n",
    "            for m2 in range(-self.V_m_max, self.V_m_max+1):\n",
    "                m2_index = self.V_m_max + m2\n",
    "                m3 = m - m2\n",
    "                if m3 >= -self.m_max and m3 <= self.m_max:\n",
    "                    m3_index = m3 + self.m_max\n",
    "                    #ic(m_index, m2_index, m3_index)\n",
    "                    result[:,m_index] += self.V_m[m2_index] * psi[:,m3_index]\n",
    "            if gen_evp:\n",
    "                result[:,m_index] *= self.r_inner\n",
    "        \n",
    "        return result\n",
    "    \n",
    "    def get_dense_matrix(self):\n",
    "        \"\"\"Compute dense matrix representation of H.\"\"\"\n",
    "        def apply_hamiltonian(psi_vec):\n",
    "            return self.apply_hamiltonian(psi_vec.reshape(self.shape)).flatten()\n",
    "\n",
    "        H = LinearOperator((self.n_dof, self.n_dof), matvec=apply_hamiltonian, dtype=np.complex128)\n",
    "        \n",
    "        H_mat = np.zeros((self.n_dof, self.n_dof), dtype=np.complex128)\n",
    "        R_mat = np.zeros((self.n_dof, self.n_dof), dtype=np.complex128)\n",
    "        \n",
    "        ic(self.n_dof)\n",
    "        for i in range(self.n_dof):\n",
    "            e = np.zeros(self.n_dof)\n",
    "            e[i] = 1\n",
    "            H_mat[:,i] = self.apply_hamiltonian(e.reshape(self.shape), gen_evp=True).flatten()\n",
    "            R_mat[:,i] = self.apply_weight(e.reshape(self.shape)).flatten()\n",
    "            \n",
    "        return H_mat, R_mat\n",
    "\n",
    "        \n",
    "        \n",
    "    "
   ]
  },
  {
   "cell_type": "code",
   "execution_count": 196,
   "metadata": {},
   "outputs": [
    {
     "name": "stderr",
     "output_type": "stream",
     "text": [
      "ic| self.V_m_max: 1\n",
      "ic| self.n_dof: 2100\n"
     ]
    },
    {
     "data": {
      "application/vnd.jupyter.widget-view+json": {
       "model_id": "24a8628664d043ddb03bf82c64bcab68",
       "version_major": 2,
       "version_minor": 0
      },
      "image/png": "[encoded data removed]",
      "text/html": [
       "\n",
       "            <div style=\"display: inline-block;\">\n",
       "                <div class=\"jupyter-widgets widget-label\" style=\"text-align: center;\">\n",
       "                    Figure 1\n",
       "                </div>\n",
       "                <img src='data:image/png;base64,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' width=640.0/>\n",
       "            </div>\n",
       "        "
      ],
      "text/plain": [
       "Canvas(toolbar=Toolbar(toolitems=[('Home', 'Reset original view', 'home', 'home'), ('Back', 'Back to previous …"
      ]
     },
     "metadata": {},
     "output_type": "display_data"
    }
   ],
   "source": [
    "solver = polar_fdm_2d(r_max = 10, n_r = 100, m_max = 10)\n",
    "\n",
    "# Set up potential V(x, y) = (x-x0)**2/2 + (y-y0)**2/2.\n",
    "# This gives an harmonic oscillator with spectrum 1, 2, 2, 3, 3, 3, 4, 4, 4, 4, ...\n",
    "#\n",
    "# V(x, y) = (x-x0)**2/2 + (y-y0)**2/2 = r**2/2 - x*x0 - y*y0 + x0**2/2 + y0**2/2\n",
    "# = r**2/2 - r*cos(theta)*x0 - r*sin(theta)*y0 + x0**2/2 + y0**2/2\n",
    "# = r**2/2 - x0*r*(exp(i*theta) + exp(-i*theta))/2 - x0*r*(exp(i*tjheta)-exp(-i*theta))/2i + x0**2/2 + y0**2/2 \n",
    "# = r**2/2 - r*(x0 - i*y0)/2 * exp(i*theta) - r*(x0 + i*y0)/2 * exp(-i*theta) + x0**2/2 + y0**2/2\n",
    "\n",
    "# For all alpha, this is just a shifted harmonic oscillator\n",
    "# and should produce evenly spaced energy levels with correct degeneracies 1, 2, 3. ...\n",
    "x0 = 1.0\n",
    "y0 = 0.25\n",
    "alpha = x0 - 1j*y0\n",
    "V_m = []\n",
    "# m = -1\n",
    "V_m.append(-alpha*0.5*solver.r_inner)\n",
    "V_m.append(0.5*solver.r_inner**2 + 0.5*np.abs(alpha)**2)\n",
    "V_m.append(-alpha.conjugate()*0.5*solver.r_inner)\n",
    "solver.set_potential(V_m)\n",
    "\n",
    "# Compute dense matrix version of Hamiltonian.\n",
    "H_mat, R_mat = solver.get_dense_matrix()\n",
    "\n",
    "# Plot sparsity pattern. Zoom in for details.\n",
    "plt.figure\n",
    "plt.spy(H_mat)\n",
    "plt.show()\n"
   ]
  },
  {
   "cell_type": "code",
   "execution_count": 198,
   "metadata": {},
   "outputs": [
    {
     "name": "stderr",
     "output_type": "stream",
     "text": [
      "ic| E[:11]: array([0.99988295, 1.99920904, 2.0004669 , 2.99710153, 2.99819221,\n",
      "                   2.99982793, 3.99508431, 3.99652469, 3.99761584, 3.99904066,\n",
      "                   4.99280179])\n"
     ]
    },
    {
     "data": {
      "text/plain": [
       "array([0.99988295, 1.99920904, 2.0004669 , 2.99710153, 2.99819221,\n",
       "       2.99982793, 3.99508431, 3.99652469, 3.99761584, 3.99904066,\n",
       "       4.99280179])"
      ]
     },
     "execution_count": 198,
     "metadata": {},
     "output_type": "execute_result"
    }
   ],
   "source": [
    "# Compute the first eigenvalues and the differences between them.\n",
    "# For a HO this should give approximately, 1, 0, 1, 0, 0, 1, 0, 0, 0, 1.\n",
    "from scipy.linalg import eigh\n",
    "E, U = eigh(H_mat, R_mat)\n",
    "i = np.argsort(E)\n",
    "E = E[i]\n",
    "U = U[:,i]\n",
    "ic(E[:11])\n"
   ]
  },
  {
   "cell_type": "code",
   "execution_count": 203,
   "metadata": {},
   "outputs": [
    {
     "ename": "KeyboardInterrupt",
     "evalue": "",
     "output_type": "error",
     "traceback": [
      "\u001b[0;31m---------------------------------------------------------------------------\u001b[0m",
      "\u001b[0;31mKeyboardInterrupt\u001b[0m                         Traceback (most recent call last)",
      "Cell \u001b[0;32mIn[203], line 15\u001b[0m\n\u001b[1;32m     13\u001b[0m \u001b[38;5;28;01mfrom\u001b[39;00m \u001b[38;5;21;01mtime\u001b[39;00m \u001b[38;5;28;01mimport\u001b[39;00m time\n\u001b[1;32m     14\u001b[0m start \u001b[38;5;241m=\u001b[39m time()\n\u001b[0;32m---> 15\u001b[0m result \u001b[38;5;241m=\u001b[39m \u001b[43meigs\u001b[49m\u001b[43m(\u001b[49m\u001b[43mH\u001b[49m\u001b[43m,\u001b[49m\u001b[43m \u001b[49m\u001b[38;5;241;43m10\u001b[39;49m\u001b[43m,\u001b[49m\u001b[43m \u001b[49m\u001b[43mR\u001b[49m\u001b[43m,\u001b[49m\u001b[43m \u001b[49m\u001b[43mwhich\u001b[49m\u001b[38;5;241;43m=\u001b[39;49m\u001b[38;5;124;43m'\u001b[39;49m\u001b[38;5;124;43mLM\u001b[39;49m\u001b[38;5;124;43m'\u001b[39;49m\u001b[43m,\u001b[49m\u001b[43m \u001b[49m\u001b[43msigma\u001b[49m\u001b[38;5;241;43m=\u001b[39;49m\u001b[43msigma\u001b[49m\u001b[43m,\u001b[49m\u001b[43m \u001b[49m\u001b[43mtol\u001b[49m\u001b[38;5;241;43m=\u001b[39;49m\u001b[38;5;241;43m1e-6\u001b[39;49m\u001b[43m,\u001b[49m\u001b[43m \u001b[49m\u001b[43mmaxiter\u001b[49m\u001b[38;5;241;43m=\u001b[39;49m\u001b[38;5;241;43m1000\u001b[39;49m\u001b[43m)\u001b[49m\n\u001b[1;32m     17\u001b[0m psi_vec \u001b[38;5;241m=\u001b[39m np\u001b[38;5;241m.\u001b[39mrandom\u001b[38;5;241m.\u001b[39mrand(solver\u001b[38;5;241m.\u001b[39mn_dof)\n\u001b[1;32m     19\u001b[0m \u001b[38;5;66;03m# for k in range(10):\u001b[39;00m\n\u001b[1;32m     20\u001b[0m \u001b[38;5;66;03m#     psi_vec = cg(H, psi_vec, tol=1e-6, maxiter=1000)[0]\u001b[39;00m\n\u001b[1;32m     21\u001b[0m \u001b[38;5;66;03m#     psi_vec /= np.linalg.norm(psi_vec)\u001b[39;00m\n\u001b[1;32m     22\u001b[0m \u001b[38;5;66;03m#     E = psi_vec.conjugate().T @ (H @ psi_vec)\u001b[39;00m\n\u001b[1;32m     23\u001b[0m \u001b[38;5;66;03m#     ic(E)\u001b[39;00m\n",
      "File \u001b[0;32m~/anaconda3/lib/python3.10/site-packages/scipy/sparse/linalg/_eigen/arpack/arpack.py:1352\u001b[0m, in \u001b[0;36meigs\u001b[0;34m(A, k, M, sigma, which, v0, ncv, maxiter, tol, return_eigenvectors, Minv, OPinv, OPpart)\u001b[0m\n\u001b[1;32m   1350\u001b[0m \u001b[38;5;28;01mwith\u001b[39;00m _ARPACK_LOCK:\n\u001b[1;32m   1351\u001b[0m     \u001b[38;5;28;01mwhile\u001b[39;00m \u001b[38;5;129;01mnot\u001b[39;00m params\u001b[38;5;241m.\u001b[39mconverged:\n\u001b[0;32m-> 1352\u001b[0m         \u001b[43mparams\u001b[49m\u001b[38;5;241;43m.\u001b[39;49m\u001b[43miterate\u001b[49m\u001b[43m(\u001b[49m\u001b[43m)\u001b[49m\n\u001b[1;32m   1354\u001b[0m     \u001b[38;5;28;01mreturn\u001b[39;00m params\u001b[38;5;241m.\u001b[39mextract(return_eigenvectors)\n",
      "File \u001b[0;32m~/anaconda3/lib/python3.10/site-packages/scipy/sparse/linalg/_eigen/arpack/arpack.py:739\u001b[0m, in \u001b[0;36m_UnsymmetricArpackParams.iterate\u001b[0;34m(self)\u001b[0m\n\u001b[1;32m    736\u001b[0m yslice \u001b[38;5;241m=\u001b[39m \u001b[38;5;28mslice\u001b[39m(\u001b[38;5;28mself\u001b[39m\u001b[38;5;241m.\u001b[39mipntr[\u001b[38;5;241m1\u001b[39m] \u001b[38;5;241m-\u001b[39m \u001b[38;5;241m1\u001b[39m, \u001b[38;5;28mself\u001b[39m\u001b[38;5;241m.\u001b[39mipntr[\u001b[38;5;241m1\u001b[39m] \u001b[38;5;241m-\u001b[39m \u001b[38;5;241m1\u001b[39m \u001b[38;5;241m+\u001b[39m \u001b[38;5;28mself\u001b[39m\u001b[38;5;241m.\u001b[39mn)\n\u001b[1;32m    737\u001b[0m \u001b[38;5;28;01mif\u001b[39;00m \u001b[38;5;28mself\u001b[39m\u001b[38;5;241m.\u001b[39mido \u001b[38;5;241m==\u001b[39m \u001b[38;5;241m-\u001b[39m\u001b[38;5;241m1\u001b[39m:\n\u001b[1;32m    738\u001b[0m     \u001b[38;5;66;03m# initialization\u001b[39;00m\n\u001b[0;32m--> 739\u001b[0m     \u001b[38;5;28mself\u001b[39m\u001b[38;5;241m.\u001b[39mworkd[yslice] \u001b[38;5;241m=\u001b[39m \u001b[38;5;28;43mself\u001b[39;49m\u001b[38;5;241;43m.\u001b[39;49m\u001b[43mOP\u001b[49m\u001b[43m(\u001b[49m\u001b[38;5;28;43mself\u001b[39;49m\u001b[38;5;241;43m.\u001b[39;49m\u001b[43mworkd\u001b[49m\u001b[43m[\u001b[49m\u001b[43mxslice\u001b[49m\u001b[43m]\u001b[49m\u001b[43m)\u001b[49m\n\u001b[1;32m    740\u001b[0m \u001b[38;5;28;01melif\u001b[39;00m \u001b[38;5;28mself\u001b[39m\u001b[38;5;241m.\u001b[39mido \u001b[38;5;241m==\u001b[39m \u001b[38;5;241m1\u001b[39m:\n\u001b[1;32m    741\u001b[0m     \u001b[38;5;66;03m# compute y = Op*x\u001b[39;00m\n\u001b[1;32m    742\u001b[0m     \u001b[38;5;28;01mif\u001b[39;00m \u001b[38;5;28mself\u001b[39m\u001b[38;5;241m.\u001b[39mmode \u001b[38;5;129;01min\u001b[39;00m (\u001b[38;5;241m1\u001b[39m, \u001b[38;5;241m2\u001b[39m):\n",
      "File \u001b[0;32m~/anaconda3/lib/python3.10/site-packages/scipy/sparse/linalg/_eigen/arpack/arpack.py:686\u001b[0m, in \u001b[0;36m_UnsymmetricArpackParams.__init__.<locals>.<lambda>\u001b[0;34m(x)\u001b[0m\n\u001b[1;32m    684\u001b[0m         \u001b[38;5;28mself\u001b[39m\u001b[38;5;241m.\u001b[39mB \u001b[38;5;241m=\u001b[39m M_matvec\n\u001b[1;32m    685\u001b[0m         \u001b[38;5;28mself\u001b[39m\u001b[38;5;241m.\u001b[39mbmat \u001b[38;5;241m=\u001b[39m \u001b[38;5;124m'\u001b[39m\u001b[38;5;124mG\u001b[39m\u001b[38;5;124m'\u001b[39m\n\u001b[0;32m--> 686\u001b[0m         \u001b[38;5;28mself\u001b[39m\u001b[38;5;241m.\u001b[39mOP \u001b[38;5;241m=\u001b[39m \u001b[38;5;28;01mlambda\u001b[39;00m x: \u001b[38;5;28;43mself\u001b[39;49m\u001b[38;5;241;43m.\u001b[39;49m\u001b[43mOPa\u001b[49m\u001b[43m(\u001b[49m\u001b[43mM_matvec\u001b[49m\u001b[43m(\u001b[49m\u001b[43mx\u001b[49m\u001b[43m)\u001b[49m\u001b[43m)\u001b[49m\n\u001b[1;32m    687\u001b[0m \u001b[38;5;28;01melse\u001b[39;00m:\n\u001b[1;32m    688\u001b[0m     \u001b[38;5;28;01mraise\u001b[39;00m \u001b[38;5;167;01mValueError\u001b[39;00m(\u001b[38;5;124m\"\u001b[39m\u001b[38;5;124mmode=\u001b[39m\u001b[38;5;132;01m%i\u001b[39;00m\u001b[38;5;124m not implemented\u001b[39m\u001b[38;5;124m\"\u001b[39m \u001b[38;5;241m%\u001b[39m mode)\n",
      "File \u001b[0;32m~/anaconda3/lib/python3.10/site-packages/scipy/sparse/linalg/_interface.py:234\u001b[0m, in \u001b[0;36mLinearOperator.matvec\u001b[0;34m(self, x)\u001b[0m\n\u001b[1;32m    231\u001b[0m \u001b[38;5;28;01mif\u001b[39;00m x\u001b[38;5;241m.\u001b[39mshape \u001b[38;5;241m!=\u001b[39m (N,) \u001b[38;5;129;01mand\u001b[39;00m x\u001b[38;5;241m.\u001b[39mshape \u001b[38;5;241m!=\u001b[39m (N,\u001b[38;5;241m1\u001b[39m):\n\u001b[1;32m    232\u001b[0m     \u001b[38;5;28;01mraise\u001b[39;00m \u001b[38;5;167;01mValueError\u001b[39;00m(\u001b[38;5;124m'\u001b[39m\u001b[38;5;124mdimension mismatch\u001b[39m\u001b[38;5;124m'\u001b[39m)\n\u001b[0;32m--> 234\u001b[0m y \u001b[38;5;241m=\u001b[39m \u001b[38;5;28;43mself\u001b[39;49m\u001b[38;5;241;43m.\u001b[39;49m\u001b[43m_matvec\u001b[49m\u001b[43m(\u001b[49m\u001b[43mx\u001b[49m\u001b[43m)\u001b[49m\n\u001b[1;32m    236\u001b[0m \u001b[38;5;28;01mif\u001b[39;00m \u001b[38;5;28misinstance\u001b[39m(x, np\u001b[38;5;241m.\u001b[39mmatrix):\n\u001b[1;32m    237\u001b[0m     y \u001b[38;5;241m=\u001b[39m asmatrix(y)\n",
      "File \u001b[0;32m~/anaconda3/lib/python3.10/site-packages/scipy/sparse/linalg/_eigen/arpack/arpack.py:1027\u001b[0m, in \u001b[0;36mIterOpInv._matvec\u001b[0;34m(self, x)\u001b[0m\n\u001b[1;32m   1026\u001b[0m \u001b[38;5;28;01mdef\u001b[39;00m \u001b[38;5;21m_matvec\u001b[39m(\u001b[38;5;28mself\u001b[39m, x):\n\u001b[0;32m-> 1027\u001b[0m     b, info \u001b[38;5;241m=\u001b[39m \u001b[38;5;28;43mself\u001b[39;49m\u001b[38;5;241;43m.\u001b[39;49m\u001b[43mifunc\u001b[49m\u001b[43m(\u001b[49m\u001b[38;5;28;43mself\u001b[39;49m\u001b[38;5;241;43m.\u001b[39;49m\u001b[43mOP\u001b[49m\u001b[43m,\u001b[49m\u001b[43m \u001b[49m\u001b[43mx\u001b[49m\u001b[43m,\u001b[49m\u001b[43m \u001b[49m\u001b[43mtol\u001b[49m\u001b[38;5;241;43m=\u001b[39;49m\u001b[38;5;28;43mself\u001b[39;49m\u001b[38;5;241;43m.\u001b[39;49m\u001b[43mtol\u001b[49m\u001b[43m)\u001b[49m\n\u001b[1;32m   1028\u001b[0m     \u001b[38;5;28;01mif\u001b[39;00m info \u001b[38;5;241m!=\u001b[39m \u001b[38;5;241m0\u001b[39m:\n\u001b[1;32m   1029\u001b[0m         \u001b[38;5;28;01mraise\u001b[39;00m \u001b[38;5;167;01mValueError\u001b[39;00m(\u001b[38;5;124m\"\u001b[39m\u001b[38;5;124mError in inverting [A-sigma*M]: function \u001b[39m\u001b[38;5;124m\"\u001b[39m\n\u001b[1;32m   1030\u001b[0m                          \u001b[38;5;124m\"\u001b[39m\u001b[38;5;132;01m%s\u001b[39;00m\u001b[38;5;124m did not converge (info = \u001b[39m\u001b[38;5;132;01m%i\u001b[39;00m\u001b[38;5;124m).\u001b[39m\u001b[38;5;124m\"\u001b[39m\n\u001b[1;32m   1031\u001b[0m                          \u001b[38;5;241m%\u001b[39m (\u001b[38;5;28mself\u001b[39m\u001b[38;5;241m.\u001b[39mifunc\u001b[38;5;241m.\u001b[39m\u001b[38;5;18m__name__\u001b[39m, info))\n",
      "File \u001b[0;32m~/anaconda3/lib/python3.10/site-packages/scipy/sparse/linalg/_eigen/arpack/arpack.py:953\u001b[0m, in \u001b[0;36mgmres_loose\u001b[0;34m(A, b, tol)\u001b[0m\n\u001b[1;32m    951\u001b[0m b \u001b[38;5;241m=\u001b[39m np\u001b[38;5;241m.\u001b[39masarray(b)\n\u001b[1;32m    952\u001b[0m min_tol \u001b[38;5;241m=\u001b[39m \u001b[38;5;241m1000\u001b[39m \u001b[38;5;241m*\u001b[39m np\u001b[38;5;241m.\u001b[39msqrt(b\u001b[38;5;241m.\u001b[39msize) \u001b[38;5;241m*\u001b[39m np\u001b[38;5;241m.\u001b[39mfinfo(b\u001b[38;5;241m.\u001b[39mdtype)\u001b[38;5;241m.\u001b[39meps\n\u001b[0;32m--> 953\u001b[0m \u001b[38;5;28;01mreturn\u001b[39;00m \u001b[43mgmres\u001b[49m\u001b[43m(\u001b[49m\u001b[43mA\u001b[49m\u001b[43m,\u001b[49m\u001b[43m \u001b[49m\u001b[43mb\u001b[49m\u001b[43m,\u001b[49m\u001b[43m \u001b[49m\u001b[43mtol\u001b[49m\u001b[38;5;241;43m=\u001b[39;49m\u001b[38;5;28;43mmax\u001b[39;49m\u001b[43m(\u001b[49m\u001b[43mtol\u001b[49m\u001b[43m,\u001b[49m\u001b[43m \u001b[49m\u001b[43mmin_tol\u001b[49m\u001b[43m)\u001b[49m\u001b[43m,\u001b[49m\u001b[43m \u001b[49m\u001b[43matol\u001b[49m\u001b[38;5;241;43m=\u001b[39;49m\u001b[38;5;241;43m0\u001b[39;49m\u001b[43m)\u001b[49m\n",
      "File \u001b[0;32m<decorator-gen-5>:2\u001b[0m, in \u001b[0;36mgmres\u001b[0;34m(A, b, x0, tol, restart, maxiter, M, callback, restrt, atol, callback_type)\u001b[0m\n",
      "File \u001b[0;32m~/anaconda3/lib/python3.10/site-packages/scipy/_lib/_threadsafety.py:44\u001b[0m, in \u001b[0;36mReentrancyLock.decorate.<locals>.caller\u001b[0;34m(func, *a, **kw)\u001b[0m\n\u001b[1;32m     42\u001b[0m \u001b[38;5;28;01mdef\u001b[39;00m \u001b[38;5;21mcaller\u001b[39m(func, \u001b[38;5;241m*\u001b[39ma, \u001b[38;5;241m*\u001b[39m\u001b[38;5;241m*\u001b[39mkw):\n\u001b[1;32m     43\u001b[0m     \u001b[38;5;28;01mwith\u001b[39;00m \u001b[38;5;28mself\u001b[39m:\n\u001b[0;32m---> 44\u001b[0m         \u001b[38;5;28;01mreturn\u001b[39;00m \u001b[43mfunc\u001b[49m\u001b[43m(\u001b[49m\u001b[38;5;241;43m*\u001b[39;49m\u001b[43ma\u001b[49m\u001b[43m,\u001b[49m\u001b[43m \u001b[49m\u001b[38;5;241;43m*\u001b[39;49m\u001b[38;5;241;43m*\u001b[39;49m\u001b[43mkw\u001b[49m\u001b[43m)\u001b[49m\n",
      "File \u001b[0;32m~/anaconda3/lib/python3.10/site-packages/scipy/sparse/linalg/_isolve/iterative.py:694\u001b[0m, in \u001b[0;36mgmres\u001b[0;34m(A, b, x0, tol, restart, maxiter, M, callback, restrt, atol, callback_type)\u001b[0m\n\u001b[1;32m    692\u001b[0m \u001b[38;5;28;01melif\u001b[39;00m (ijob \u001b[38;5;241m==\u001b[39m \u001b[38;5;241m3\u001b[39m):\n\u001b[1;32m    693\u001b[0m     work[slice2] \u001b[38;5;241m*\u001b[39m\u001b[38;5;241m=\u001b[39m sclr2\n\u001b[0;32m--> 694\u001b[0m     work[slice2] \u001b[38;5;241m+\u001b[39m\u001b[38;5;241m=\u001b[39m sclr1\u001b[38;5;241m*\u001b[39m\u001b[43mmatvec\u001b[49m\u001b[43m(\u001b[49m\u001b[43mwork\u001b[49m\u001b[43m[\u001b[49m\u001b[43mslice1\u001b[49m\u001b[43m]\u001b[49m\u001b[43m)\u001b[49m\n\u001b[1;32m    695\u001b[0m     \u001b[38;5;28;01mif\u001b[39;00m resid_ready:\n\u001b[1;32m    696\u001b[0m         \u001b[38;5;28;01mif\u001b[39;00m callback_type \u001b[38;5;129;01min\u001b[39;00m (\u001b[38;5;124m'\u001b[39m\u001b[38;5;124mpr_norm\u001b[39m\u001b[38;5;124m'\u001b[39m, \u001b[38;5;124m'\u001b[39m\u001b[38;5;124mlegacy\u001b[39m\u001b[38;5;124m'\u001b[39m):\n",
      "File \u001b[0;32m~/anaconda3/lib/python3.10/site-packages/scipy/sparse/linalg/_interface.py:234\u001b[0m, in \u001b[0;36mLinearOperator.matvec\u001b[0;34m(self, x)\u001b[0m\n\u001b[1;32m    231\u001b[0m \u001b[38;5;28;01mif\u001b[39;00m x\u001b[38;5;241m.\u001b[39mshape \u001b[38;5;241m!=\u001b[39m (N,) \u001b[38;5;129;01mand\u001b[39;00m x\u001b[38;5;241m.\u001b[39mshape \u001b[38;5;241m!=\u001b[39m (N,\u001b[38;5;241m1\u001b[39m):\n\u001b[1;32m    232\u001b[0m     \u001b[38;5;28;01mraise\u001b[39;00m \u001b[38;5;167;01mValueError\u001b[39;00m(\u001b[38;5;124m'\u001b[39m\u001b[38;5;124mdimension mismatch\u001b[39m\u001b[38;5;124m'\u001b[39m)\n\u001b[0;32m--> 234\u001b[0m y \u001b[38;5;241m=\u001b[39m \u001b[38;5;28;43mself\u001b[39;49m\u001b[38;5;241;43m.\u001b[39;49m\u001b[43m_matvec\u001b[49m\u001b[43m(\u001b[49m\u001b[43mx\u001b[49m\u001b[43m)\u001b[49m\n\u001b[1;32m    236\u001b[0m \u001b[38;5;28;01mif\u001b[39;00m \u001b[38;5;28misinstance\u001b[39m(x, np\u001b[38;5;241m.\u001b[39mmatrix):\n\u001b[1;32m    237\u001b[0m     y \u001b[38;5;241m=\u001b[39m asmatrix(y)\n",
      "File \u001b[0;32m~/anaconda3/lib/python3.10/site-packages/scipy/sparse/linalg/_interface.py:591\u001b[0m, in \u001b[0;36m_CustomLinearOperator._matvec\u001b[0;34m(self, x)\u001b[0m\n\u001b[1;32m    590\u001b[0m \u001b[38;5;28;01mdef\u001b[39;00m \u001b[38;5;21m_matvec\u001b[39m(\u001b[38;5;28mself\u001b[39m, x):\n\u001b[0;32m--> 591\u001b[0m     \u001b[38;5;28;01mreturn\u001b[39;00m \u001b[38;5;28;43mself\u001b[39;49m\u001b[38;5;241;43m.\u001b[39;49m\u001b[43m__matvec_impl\u001b[49m\u001b[43m(\u001b[49m\u001b[43mx\u001b[49m\u001b[43m)\u001b[49m\n",
      "File \u001b[0;32m~/anaconda3/lib/python3.10/site-packages/scipy/sparse/linalg/_eigen/arpack/arpack.py:1001\u001b[0m, in \u001b[0;36mIterOpInv.__init__.<locals>.mult_func\u001b[0;34m(x)\u001b[0m\n\u001b[1;32m   1000\u001b[0m \u001b[38;5;28;01mdef\u001b[39;00m \u001b[38;5;21mmult_func\u001b[39m(x):\n\u001b[0;32m-> 1001\u001b[0m     \u001b[38;5;28;01mreturn\u001b[39;00m \u001b[43mA\u001b[49m\u001b[38;5;241;43m.\u001b[39;49m\u001b[43mmatvec\u001b[49m\u001b[43m(\u001b[49m\u001b[43mx\u001b[49m\u001b[43m)\u001b[49m \u001b[38;5;241m-\u001b[39m sigma \u001b[38;5;241m*\u001b[39m M\u001b[38;5;241m.\u001b[39mmatvec(x)\n",
      "File \u001b[0;32m~/anaconda3/lib/python3.10/site-packages/scipy/sparse/linalg/_interface.py:234\u001b[0m, in \u001b[0;36mLinearOperator.matvec\u001b[0;34m(self, x)\u001b[0m\n\u001b[1;32m    231\u001b[0m \u001b[38;5;28;01mif\u001b[39;00m x\u001b[38;5;241m.\u001b[39mshape \u001b[38;5;241m!=\u001b[39m (N,) \u001b[38;5;129;01mand\u001b[39;00m x\u001b[38;5;241m.\u001b[39mshape \u001b[38;5;241m!=\u001b[39m (N,\u001b[38;5;241m1\u001b[39m):\n\u001b[1;32m    232\u001b[0m     \u001b[38;5;28;01mraise\u001b[39;00m \u001b[38;5;167;01mValueError\u001b[39;00m(\u001b[38;5;124m'\u001b[39m\u001b[38;5;124mdimension mismatch\u001b[39m\u001b[38;5;124m'\u001b[39m)\n\u001b[0;32m--> 234\u001b[0m y \u001b[38;5;241m=\u001b[39m \u001b[38;5;28;43mself\u001b[39;49m\u001b[38;5;241;43m.\u001b[39;49m\u001b[43m_matvec\u001b[49m\u001b[43m(\u001b[49m\u001b[43mx\u001b[49m\u001b[43m)\u001b[49m\n\u001b[1;32m    236\u001b[0m \u001b[38;5;28;01mif\u001b[39;00m \u001b[38;5;28misinstance\u001b[39m(x, np\u001b[38;5;241m.\u001b[39mmatrix):\n\u001b[1;32m    237\u001b[0m     y \u001b[38;5;241m=\u001b[39m asmatrix(y)\n",
      "File \u001b[0;32m~/anaconda3/lib/python3.10/site-packages/scipy/sparse/linalg/_interface.py:591\u001b[0m, in \u001b[0;36m_CustomLinearOperator._matvec\u001b[0;34m(self, x)\u001b[0m\n\u001b[1;32m    590\u001b[0m \u001b[38;5;28;01mdef\u001b[39;00m \u001b[38;5;21m_matvec\u001b[39m(\u001b[38;5;28mself\u001b[39m, x):\n\u001b[0;32m--> 591\u001b[0m     \u001b[38;5;28;01mreturn\u001b[39;00m \u001b[38;5;28;43mself\u001b[39;49m\u001b[38;5;241;43m.\u001b[39;49m\u001b[43m__matvec_impl\u001b[49m\u001b[43m(\u001b[49m\u001b[43mx\u001b[49m\u001b[43m)\u001b[49m\n",
      "Cell \u001b[0;32mIn[203], line 5\u001b[0m, in \u001b[0;36mapply_hamiltonian\u001b[0;34m(psi_vec, sigma)\u001b[0m\n\u001b[1;32m      4\u001b[0m \u001b[38;5;28;01mdef\u001b[39;00m \u001b[38;5;21mapply_hamiltonian\u001b[39m(psi_vec, sigma \u001b[38;5;241m=\u001b[39m \u001b[38;5;241m0\u001b[39m):\n\u001b[0;32m----> 5\u001b[0m     \u001b[38;5;28;01mreturn\u001b[39;00m \u001b[43msolver\u001b[49m\u001b[38;5;241;43m.\u001b[39;49m\u001b[43mapply_hamiltonian\u001b[49m\u001b[43m(\u001b[49m\u001b[43mpsi_vec\u001b[49m\u001b[38;5;241;43m.\u001b[39;49m\u001b[43mreshape\u001b[49m\u001b[43m(\u001b[49m\u001b[43msolver\u001b[49m\u001b[38;5;241;43m.\u001b[39;49m\u001b[43mshape\u001b[49m\u001b[43m)\u001b[49m\u001b[43m,\u001b[49m\u001b[43m \u001b[49m\u001b[43mgen_evp\u001b[49m\u001b[38;5;241;43m=\u001b[39;49m\u001b[38;5;28;43;01mTrue\u001b[39;49;00m\u001b[43m)\u001b[49m\u001b[38;5;241m.\u001b[39mflatten() \u001b[38;5;241m-\u001b[39m sigma\u001b[38;5;241m*\u001b[39mpsi_vec\n",
      "Cell \u001b[0;32mIn[195], line 86\u001b[0m, in \u001b[0;36mpolar_fdm_2d.apply_hamiltonian\u001b[0;34m(self, psi, gen_evp)\u001b[0m\n\u001b[1;32m     84\u001b[0m m_index \u001b[38;5;241m=\u001b[39m m \u001b[38;5;241m+\u001b[39m \u001b[38;5;28mself\u001b[39m\u001b[38;5;241m.\u001b[39mm_max\n\u001b[1;32m     85\u001b[0m \u001b[38;5;66;03m#ic(m, m_index)\u001b[39;00m\n\u001b[0;32m---> 86\u001b[0m result[:,m_index] \u001b[38;5;241m=\u001b[39m \u001b[38;5;28;43mself\u001b[39;49m\u001b[38;5;241;43m.\u001b[39;49m\u001b[43mT_m\u001b[49m\u001b[43m[\u001b[49m\u001b[38;5;28;43mabs\u001b[39;49m\u001b[43m(\u001b[49m\u001b[43mm\u001b[49m\u001b[43m)\u001b[49m\u001b[43m]\u001b[49m\u001b[43m \u001b[49m\u001b[38;5;241;43m@\u001b[39;49m\u001b[43m \u001b[49m\u001b[43mpsi\u001b[49m\u001b[43m[\u001b[49m\u001b[43m:\u001b[49m\u001b[43m,\u001b[49m\u001b[43mm_index\u001b[49m\u001b[43m]\u001b[49m \n\u001b[1;32m     87\u001b[0m \u001b[38;5;28;01mfor\u001b[39;00m m2 \u001b[38;5;129;01min\u001b[39;00m \u001b[38;5;28mrange\u001b[39m(\u001b[38;5;241m-\u001b[39m\u001b[38;5;28mself\u001b[39m\u001b[38;5;241m.\u001b[39mV_m_max, \u001b[38;5;28mself\u001b[39m\u001b[38;5;241m.\u001b[39mV_m_max\u001b[38;5;241m+\u001b[39m\u001b[38;5;241m1\u001b[39m):\n\u001b[1;32m     88\u001b[0m     m2_index \u001b[38;5;241m=\u001b[39m \u001b[38;5;28mself\u001b[39m\u001b[38;5;241m.\u001b[39mV_m_max \u001b[38;5;241m+\u001b[39m m2\n",
      "File \u001b[0;32m~/anaconda3/lib/python3.10/site-packages/numpy/matrixlib/defmatrix.py:168\u001b[0m, in \u001b[0;36mmatrix.__array_finalize__\u001b[0;34m(self, obj)\u001b[0m\n\u001b[1;32m    163\u001b[0m     ret \u001b[38;5;241m=\u001b[39m N\u001b[38;5;241m.\u001b[39mndarray\u001b[38;5;241m.\u001b[39m\u001b[38;5;21m__new__\u001b[39m(subtype, shape, arr\u001b[38;5;241m.\u001b[39mdtype,\n\u001b[1;32m    164\u001b[0m                             buffer\u001b[38;5;241m=\u001b[39marr,\n\u001b[1;32m    165\u001b[0m                             order\u001b[38;5;241m=\u001b[39morder)\n\u001b[1;32m    166\u001b[0m     \u001b[38;5;28;01mreturn\u001b[39;00m ret\n\u001b[0;32m--> 168\u001b[0m \u001b[38;5;28;01mdef\u001b[39;00m \u001b[38;5;21m__array_finalize__\u001b[39m(\u001b[38;5;28mself\u001b[39m, obj):\n\u001b[1;32m    169\u001b[0m     \u001b[38;5;28mself\u001b[39m\u001b[38;5;241m.\u001b[39m_getitem \u001b[38;5;241m=\u001b[39m \u001b[38;5;28;01mFalse\u001b[39;00m\n\u001b[1;32m    170\u001b[0m     \u001b[38;5;28;01mif\u001b[39;00m (\u001b[38;5;28misinstance\u001b[39m(obj, matrix) \u001b[38;5;129;01mand\u001b[39;00m obj\u001b[38;5;241m.\u001b[39m_getitem): \u001b[38;5;28;01mreturn\u001b[39;00m\n",
      "\u001b[0;31mKeyboardInterrupt\u001b[0m: "
     ]
    }
   ],
   "source": [
    "from scipy.sparse.linalg import eigs, cg\n",
    "\n",
    "sigma = 1.0\n",
    "def apply_hamiltonian(psi_vec, sigma = 0):\n",
    "    return solver.apply_hamiltonian(psi_vec.reshape(solver.shape), gen_evp=True).flatten() - sigma*psi_vec\n",
    "def apply_weight(psi_vec):\n",
    "    return solver.apply_weight(psi_vec.reshape(solver.shape)).flatten()\n",
    "\n",
    "H = LinearOperator((solver.n_dof, solver.n_dof), matvec=apply_hamiltonian, dtype=np.complex128)\n",
    "R = LinearOperator((solver.n_dof, solver.n_dof), matvec=apply_weight, dtype=np.complex128)\n",
    "\n",
    "\n",
    "from time import time\n",
    "start = time()\n",
    "result = eigs(H, 10, R, which='LM', sigma=sigma, tol=1e-6, maxiter=1000)\n",
    "\n",
    "psi_vec = np.random.rand(solver.n_dof)\n",
    "\n",
    "# for k in range(10):\n",
    "#     psi_vec = cg(H, psi_vec, tol=1e-6, maxiter=1000)[0]\n",
    "#     psi_vec /= np.linalg.norm(psi_vec)\n",
    "#     E = psi_vec.conjugate().T @ (H @ psi_vec)\n",
    "#     ic(E)\n",
    "    \n",
    "\n",
    "\n",
    "ic(time() - start)\n"
   ]
  },
  {
   "cell_type": "code",
   "execution_count": 118,
   "metadata": {},
   "outputs": [
    {
     "data": {
      "text/plain": [
       "array([1.99519287+2.96263399e-14j, 1.99036812-1.90093082e-14j,\n",
       "       1.98552215+5.07231050e-15j, 1.98065473-1.82708755e-15j,\n",
       "       1.97576563-2.00986185e-15j, 1.97085461+1.14619244e-15j,\n",
       "       1.96592146+3.24574424e-15j, 1.96096596-9.88483542e-15j,\n",
       "       1.95598789-1.85318485e-15j])"
      ]
     },
     "execution_count": 118,
     "metadata": {},
     "output_type": "execute_result"
    }
   ],
   "source": [
    "np.diff(result[0])"
   ]
  },
  {
   "cell_type": "code",
   "execution_count": 116,
   "metadata": {},
   "outputs": [
    {
     "data": {
      "image/png": "[encoded data removed]",
      "text/plain": [
       "<Figure size 640x480 with 1 Axes>"
      ]
     },
     "metadata": {},
     "output_type": "display_data"
    }
   ],
   "source": [
    "psi = result[1][:,0].reshape(solver.shape)\n",
    "plt.figure()\n",
    "plt.plot(solver.r0, solver.G_neumann @ psi[:,0].real)\n",
    "plt.show()\n"
   ]
  },
  {
   "cell_type": "code",
   "execution_count": 111,
   "metadata": {},
   "outputs": [
    {
     "name": "stderr",
     "output_type": "stream",
     "text": [
      "ic| H_solver.shape: (100, 100)\n"
     ]
    },
    {
     "data": {
      "text/plain": [
       "(100, 100)"
      ]
     },
     "execution_count": 111,
     "metadata": {},
     "output_type": "execute_result"
    }
   ],
   "source": [
    "H_solver = solver.T_m[0] + solver.V_m[0]\n",
    "ic(H_solver.shape)\n"
   ]
  },
  {
   "cell_type": "code",
   "execution_count": null,
   "metadata": {},
   "outputs": [],
   "source": []
  }
 ],
 "metadata": {
  "kernelspec": {
   "display_name": "base",
   "language": "python",
   "name": "python3"
  },
  "language_info": {
   "codemirror_mode": {
    "name": "ipython",
    "version": 3
   },
   "file_extension": ".py",
   "mimetype": "text/x-python",
   "name": "python",
   "nbconvert_exporter": "python",
   "pygments_lexer": "ipython3",
   "version": "3.10.12"
  }
 },
 "nbformat": 4,
 "nbformat_minor": 2
}
