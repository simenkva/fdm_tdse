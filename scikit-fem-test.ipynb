{
 "cells": [
  {
   "cell_type": "code",
   "execution_count": 80,
   "metadata": {},
   "outputs": [],
   "source": [
    "import skfem as fem\n",
    "from skfem.quadrature import get_quadrature\n",
    "from icecream import ic\n",
    "from skfem.helpers import dot, grad\n",
    "import numpy as np\n",
    "import matplotlib.pyplot as plt\n",
    "\n",
    "r_max = 10.0\n",
    "m = fem.MeshLine(np.linspace(0, r_max, 91))\n",
    "m_angmom = 0\n",
    "\n",
    "e = fem.ElementLineP1()\n",
    "#quadrature = get_quadrature(e, 6)\n",
    "basis = fem.Basis(m, e)\n",
    "ib = fem.InteriorBasis(m, e)\n",
    "fb = fem.FacetBasis(m, e)\n",
    "\n",
    "@fem.BilinearForm\n",
    "def a(u, v, w):\n",
    "    x = w.x[0]\n",
    "    term1 = dot(grad(u),  grad(v)) * x\n",
    "    term2 = 0.5 * u * (1.0 / x**2 * v)\n",
    "    term3 = 0.5 * u *  (x**2 * v)\n",
    "    return term1  + m_angmom**2 * term2 + term3\n",
    "  \n",
    "# Define the boundary condition\n",
    "@fem.BilinearForm\n",
    "def boundary_flux(u, v, w):\n",
    "    ic(v.shape)\n",
    "    x = w.x[0]\n",
    "    #return u.grad[0][0] * v[0] -\n",
    "    return u.grad[0] * v[0] * w.n\n",
    "\n",
    "\n",
    "import numpy as np\n",
    "\n",
    "@fem.BilinearForm\n",
    "def b(u, v, w):\n",
    "    x = w.x[0]\n",
    "    return u * v * x\n",
    "\n",
    "\n",
    "\n",
    "\n"
   ]
  },
  {
   "cell_type": "code",
   "execution_count": 81,
   "metadata": {},
   "outputs": [
    {
     "name": "stderr",
     "output_type": "stream",
     "text": [
      "ic| v.shape: (2, 1)\n",
      "ic| v.shape: (2, 1)\n",
      "ic| v.shape: (2, 1)\n",
      "ic| v.shape: (2, 1)\n"
     ]
    }
   ],
   "source": [
    "A = a.assemble(basis)\n",
    "B = b.assemble(basis)\n",
    "A += boundary_flux.assemble(fb)\n",
    "#l = L.assemble(basis)\n",
    "\n"
   ]
  },
  {
   "cell_type": "code",
   "execution_count": 82,
   "metadata": {},
   "outputs": [],
   "source": [
    "dofs = basis.get_dofs(m.facets_satisfying(lambda x: (x[0] == 0.0) | (x[0] == r_max)))\n",
    "#D_right = basis.get_dofs(m.facets_satisfying(lambda x: x[0] == r_max))\n",
    "#ic(D_left, D_right)\n",
    "#AII, bI, xI, I = fem.condense(A, l, D=D)\n",
    "A2, B2, xI, I = fem.condense(A, B, D=dofs)\n"
   ]
  },
  {
   "cell_type": "code",
   "execution_count": 83,
   "metadata": {},
   "outputs": [],
   "source": [
    "from scipy.linalg import eigh\n",
    "E, U = eigh(A2.todense(), B2.todense())"
   ]
  },
  {
   "cell_type": "code",
   "execution_count": 84,
   "metadata": {},
   "outputs": [
    {
     "data": {
      "text/plain": [
       "array([8.70777240e-04, 7.14718235e-03, 1.42563169e-02, 2.13833806e-02,\n",
       "       2.85111264e-02, 3.56389056e-02, 4.27666866e-02, 4.98944677e-02,\n",
       "       5.70222488e-02, 6.41500299e-02, 7.12778110e-02, 7.84055921e-02,\n",
       "       8.55333732e-02, 9.26611543e-02, 9.97889354e-02, 1.06916717e-01,\n",
       "       1.14044498e-01, 1.21172279e-01, 1.28300060e-01, 1.35427841e-01,\n",
       "       1.42555622e-01, 1.49683403e-01, 1.56811184e-01, 1.63938965e-01,\n",
       "       1.71066746e-01, 1.78194528e-01, 1.85322309e-01, 1.92450090e-01,\n",
       "       1.99577871e-01, 2.06705652e-01, 2.13833433e-01, 2.20961214e-01,\n",
       "       2.28088995e-01, 2.35216776e-01, 2.42344557e-01, 2.49472339e-01,\n",
       "       2.56600120e-01, 2.63727901e-01, 2.70855682e-01, 2.75940603e-01,\n",
       "       2.77983463e-01, 2.85111244e-01, 2.92239026e-01, 2.99366810e-01,\n",
       "       3.06494613e-01, 3.13622528e-01, 3.20751038e-01, 3.27882292e-01,\n",
       "       3.35024190e-01, 3.42199803e-01, 3.49459757e-01, 3.56883148e-01,\n",
       "       3.64554634e-01, 3.72535373e-01, 3.80854652e-01, 3.89520170e-01,\n",
       "       3.98530448e-01, 4.07882096e-01, 4.17572769e-01, 4.27602042e-01,\n",
       "       4.37971497e-01, 4.48684594e-01, 4.59746512e-01, 4.71164048e-01,\n",
       "       4.82945545e-01, 4.95100885e-01, 5.07641527e-01, 5.20580580e-01,\n",
       "       5.33932931e-01, 5.47715412e-01, 5.61947020e-01, 5.76649205e-01,\n",
       "       5.91846222e-01, 6.07565579e-01, 6.23838608e-01, 6.40701179e-01,\n",
       "       6.58194629e-01, 6.76366962e-01, 6.95274435e-01, 7.14983692e-01,\n",
       "       7.35574693e-01, 7.57144843e-01, 7.79814974e-01, 8.03738348e-01,\n",
       "       8.29114805e-01, 8.56214226e-01, 8.85418306e-01, 9.17302244e-01,\n",
       "       9.52817251e-01, 9.93792247e-01, 1.04496287e+00])"
      ]
     },
     "execution_count": 84,
     "metadata": {},
     "output_type": "execute_result"
    }
   ],
   "source": [
    "eigh(B.todense())[0]"
   ]
  },
  {
   "cell_type": "code",
   "execution_count": 85,
   "metadata": {},
   "outputs": [
    {
     "data": {
      "image/png": "[encoded data removed]",
      "text/plain": [
       "<Figure size 640x480 with 1 Axes>"
      ]
     },
     "metadata": {},
     "output_type": "display_data"
    }
   ],
   "source": [
    "plt.figure()\n",
    "plt.plot(U[:,0])\n",
    "plt.show()"
   ]
  },
  {
   "cell_type": "code",
   "execution_count": 166,
   "metadata": {},
   "outputs": [],
   "source": [
    "A2, B2 = fem.enforce(A, B, D=m.boundary_nodes())"
   ]
  },
  {
   "cell_type": "code",
   "execution_count": 167,
   "metadata": {},
   "outputs": [
    {
     "ename": "LinAlgError",
     "evalue": "The leading minor of order 1 of B is not positive definite. The factorization of B could not be completed and no eigenvalues or eigenvectors were computed.",
     "output_type": "error",
     "traceback": [
      "\u001b[0;31m---------------------------------------------------------------------------\u001b[0m",
      "\u001b[0;31mLinAlgError\u001b[0m                               Traceback (most recent call last)",
      "Cell \u001b[0;32mIn[167], line 1\u001b[0m\n\u001b[0;32m----> 1\u001b[0m E, U \u001b[38;5;241m=\u001b[39m \u001b[43meigh\u001b[49m\u001b[43m(\u001b[49m\u001b[43mA2\u001b[49m\u001b[38;5;241;43m.\u001b[39;49m\u001b[43mtodense\u001b[49m\u001b[43m(\u001b[49m\u001b[43m)\u001b[49m\u001b[43m,\u001b[49m\u001b[43m \u001b[49m\u001b[43mB2\u001b[49m\u001b[38;5;241;43m.\u001b[39;49m\u001b[43mtodense\u001b[49m\u001b[43m(\u001b[49m\u001b[43m)\u001b[49m\u001b[43m)\u001b[49m\n",
      "File \u001b[0;32m~/anaconda3/lib/python3.10/site-packages/scipy/linalg/_decomp.py:593\u001b[0m, in \u001b[0;36meigh\u001b[0;34m(a, b, lower, eigvals_only, overwrite_a, overwrite_b, turbo, eigvals, type, check_finite, subset_by_index, subset_by_value, driver)\u001b[0m\n\u001b[1;32m    590\u001b[0m     \u001b[38;5;28;01mraise\u001b[39;00m LinAlgError(\u001b[38;5;124m'\u001b[39m\u001b[38;5;124mIllegal value in argument \u001b[39m\u001b[38;5;132;01m{}\u001b[39;00m\u001b[38;5;124m of internal \u001b[39m\u001b[38;5;132;01m{}\u001b[39;00m\u001b[38;5;124m'\u001b[39m\n\u001b[1;32m    591\u001b[0m                       \u001b[38;5;124m'\u001b[39m\u001b[38;5;124m'\u001b[39m\u001b[38;5;241m.\u001b[39mformat(\u001b[38;5;241m-\u001b[39minfo, drv\u001b[38;5;241m.\u001b[39mtypecode \u001b[38;5;241m+\u001b[39m pfx \u001b[38;5;241m+\u001b[39m driver))\n\u001b[1;32m    592\u001b[0m \u001b[38;5;28;01melif\u001b[39;00m info \u001b[38;5;241m>\u001b[39m n:\n\u001b[0;32m--> 593\u001b[0m     \u001b[38;5;28;01mraise\u001b[39;00m LinAlgError(\u001b[38;5;124m'\u001b[39m\u001b[38;5;124mThe leading minor of order \u001b[39m\u001b[38;5;132;01m{}\u001b[39;00m\u001b[38;5;124m of B is not \u001b[39m\u001b[38;5;124m'\u001b[39m\n\u001b[1;32m    594\u001b[0m                       \u001b[38;5;124m'\u001b[39m\u001b[38;5;124mpositive definite. The factorization of B \u001b[39m\u001b[38;5;124m'\u001b[39m\n\u001b[1;32m    595\u001b[0m                       \u001b[38;5;124m'\u001b[39m\u001b[38;5;124mcould not be completed and no eigenvalues \u001b[39m\u001b[38;5;124m'\u001b[39m\n\u001b[1;32m    596\u001b[0m                       \u001b[38;5;124m'\u001b[39m\u001b[38;5;124mor eigenvectors were computed.\u001b[39m\u001b[38;5;124m'\u001b[39m\u001b[38;5;241m.\u001b[39mformat(info\u001b[38;5;241m-\u001b[39mn))\n\u001b[1;32m    597\u001b[0m \u001b[38;5;28;01melse\u001b[39;00m:\n\u001b[1;32m    598\u001b[0m     drv_err \u001b[38;5;241m=\u001b[39m {\u001b[38;5;124m'\u001b[39m\u001b[38;5;124mev\u001b[39m\u001b[38;5;124m'\u001b[39m: \u001b[38;5;124m'\u001b[39m\u001b[38;5;124mThe algorithm failed to converge; \u001b[39m\u001b[38;5;132;01m{}\u001b[39;00m\u001b[38;5;124m \u001b[39m\u001b[38;5;124m'\u001b[39m\n\u001b[1;32m    599\u001b[0m                      \u001b[38;5;124m'\u001b[39m\u001b[38;5;124moff-diagonal elements of an intermediate \u001b[39m\u001b[38;5;124m'\u001b[39m\n\u001b[1;32m    600\u001b[0m                      \u001b[38;5;124m'\u001b[39m\u001b[38;5;124mtridiagonal form did not converge to zero.\u001b[39m\u001b[38;5;124m'\u001b[39m,\n\u001b[0;32m   (...)\u001b[0m\n\u001b[1;32m    605\u001b[0m                \u001b[38;5;124m'\u001b[39m\u001b[38;5;124mevr\u001b[39m\u001b[38;5;124m'\u001b[39m: \u001b[38;5;124m'\u001b[39m\u001b[38;5;124mInternal Error.\u001b[39m\u001b[38;5;124m'\u001b[39m\n\u001b[1;32m    606\u001b[0m                }\n",
      "\u001b[0;31mLinAlgError\u001b[0m: The leading minor of order 1 of B is not positive definite. The factorization of B could not be completed and no eigenvalues or eigenvectors were computed."
     ]
    }
   ],
   "source": [
    "E, U = eigh(A2.todense(), B2.todense())"
   ]
  },
  {
   "cell_type": "code",
   "execution_count": 170,
   "metadata": {},
   "outputs": [
    {
     "data": {
      "text/plain": [
       "array([-1.22906202e-05,  0.00000000e+00,  6.41389051e-04,  1.28299753e-03,\n",
       "        1.92450078e-03,  2.56600119e-03,  3.20750150e-03,  3.84900179e-03,\n",
       "        4.49050209e-03,  5.13200239e-03,  5.77350269e-03,  6.41500299e-03,\n",
       "        7.05650329e-03,  7.69800359e-03,  8.33950389e-03,  8.98100419e-03,\n",
       "        9.62250449e-03,  1.02640048e-02,  1.09055051e-02,  1.15470054e-02,\n",
       "        1.21885057e-02,  1.28300060e-02,  1.34715063e-02,  1.41130066e-02,\n",
       "        1.47545069e-02,  1.53960072e-02,  1.60375075e-02,  1.66790078e-02,\n",
       "        1.73205081e-02,  1.79620084e-02,  1.86035087e-02,  1.92450090e-02,\n",
       "        1.98865093e-02,  2.05280096e-02,  2.11695099e-02,  2.18110102e-02,\n",
       "        2.24525105e-02,  2.30940108e-02,  2.37355111e-02,  2.43770114e-02,\n",
       "        2.50185117e-02,  2.56600120e-02,  2.63015123e-02,  2.69430126e-02,\n",
       "        2.75845129e-02,  2.82260132e-02,  2.88675135e-02,  2.95090138e-02,\n",
       "        3.01505141e-02,  3.07920144e-02,  3.14335147e-02,  3.20750150e-02,\n",
       "        3.27165153e-02,  3.33580156e-02,  3.39995159e-02,  3.46410162e-02,\n",
       "        3.52825165e-02,  3.59240167e-02,  3.65655170e-02,  3.72070173e-02,\n",
       "        3.78485176e-02,  3.84900179e-02,  3.91315182e-02,  3.97730185e-02,\n",
       "        4.04145188e-02,  4.10560191e-02,  4.16975194e-02,  4.23390197e-02,\n",
       "        4.29805200e-02,  4.36220203e-02,  4.42635206e-02,  4.49050209e-02,\n",
       "        4.55465212e-02,  4.61880215e-02,  4.68295218e-02,  4.74710221e-02,\n",
       "        4.81125224e-02,  4.87540227e-02,  4.93955230e-02,  5.00370233e-02,\n",
       "        5.06785236e-02,  5.13200239e-02,  5.19615242e-02,  5.26030245e-02,\n",
       "        5.32445248e-02,  5.38860251e-02,  5.45275254e-02,  5.51690257e-02,\n",
       "        5.58105260e-02,  5.64520263e-02,  5.70935266e-02,  5.77350269e-02,\n",
       "        5.83765272e-02,  5.90180275e-02,  5.96595278e-02,  6.03010281e-02,\n",
       "        6.09425284e-02,  6.15840287e-02,  6.22255290e-02,  6.28670293e-02,\n",
       "        6.35085296e-02,  6.41500299e-02,  6.47915302e-02,  6.54330305e-02,\n",
       "        6.60745308e-02,  6.67160311e-02,  6.73575314e-02,  6.79990317e-02,\n",
       "        6.86405320e-02,  6.92820323e-02,  6.99235326e-02,  7.05650329e-02,\n",
       "        7.12065332e-02,  7.18480335e-02,  7.24895338e-02,  7.31310341e-02,\n",
       "        7.37725344e-02,  7.44140347e-02,  7.50555350e-02,  7.56970353e-02,\n",
       "        7.63385356e-02,  7.69800359e-02,  7.76215362e-02,  7.82630365e-02,\n",
       "        7.89045368e-02,  7.95460371e-02,  8.01875374e-02,  8.08290377e-02,\n",
       "        8.14705380e-02,  8.21120383e-02,  8.27535386e-02,  8.33950389e-02,\n",
       "        8.40365392e-02,  8.46780395e-02,  8.53195398e-02,  8.59610401e-02,\n",
       "        8.66025404e-02,  8.72440407e-02,  8.78855410e-02,  8.85270413e-02,\n",
       "        8.91685416e-02,  8.98100419e-02,  9.04515422e-02,  9.10930425e-02,\n",
       "        9.17345428e-02,  9.23760431e-02,  9.30175434e-02,  9.36590437e-02,\n",
       "        9.43005440e-02,  9.49420443e-02,  9.55835446e-02,  9.62250449e-02,\n",
       "        9.68665452e-02,  9.75080455e-02,  9.81495458e-02,  9.87910461e-02,\n",
       "        9.94325464e-02,  1.00074047e-01,  1.00715547e-01,  1.01357047e-01,\n",
       "        1.01998548e-01,  1.02640048e-01,  1.03281550e-01,  1.03923057e-01,\n",
       "        1.04564577e-01,  1.05206139e-01,  1.05847822e-01,  1.06489816e-01,\n",
       "        1.07132544e-01,  1.07776838e-01,  1.08424094e-01,  1.09076296e-01,\n",
       "        1.09735763e-01,  1.10404691e-01,  1.11084750e-01,  1.11776911e-01,\n",
       "        1.12481547e-01,  1.13198623e-01,  1.13927888e-01,  1.14669005e-01,\n",
       "        1.15421622e-01,  1.16185409e-01,  1.16960073e-01,  1.17745359e-01,\n",
       "        1.18541048e-01,  1.19346956e-01,  1.20162926e-01,  1.20988829e-01,\n",
       "        1.21824555e-01,  1.22670015e-01,  1.23525136e-01,  1.24389859e-01,\n",
       "        1.25264137e-01,  1.26147938e-01,  1.27041235e-01,  1.27944015e-01,\n",
       "        1.28856269e-01,  1.29777999e-01,  1.30709213e-01,  1.31649924e-01,\n",
       "        1.32600154e-01,  1.33559928e-01,  1.34529277e-01,  1.35508239e-01,\n",
       "        1.36496855e-01,  1.37495171e-01,  1.38503238e-01,  1.39521111e-01,\n",
       "        1.40548851e-01,  1.41586522e-01,  1.42634191e-01,  1.43691931e-01,\n",
       "        1.44759819e-01,  1.45837935e-01,  1.46926365e-01,  1.48025198e-01,\n",
       "        1.49134527e-01,  1.50254450e-01,  1.51385068e-01,  1.52526488e-01,\n",
       "        1.53678821e-01,  1.54842182e-01,  1.56016692e-01,  1.57202474e-01,\n",
       "        1.58399659e-01,  1.59608381e-01,  1.60828781e-01,  1.62061003e-01,\n",
       "        1.63305199e-01,  1.64561525e-01,  1.65830144e-01,  1.67111224e-01,\n",
       "        1.68404941e-01,  1.69711477e-01,  1.71031020e-01,  1.72363767e-01,\n",
       "        1.73709921e-01,  1.75069694e-01,  1.76443306e-01,  1.77830986e-01,\n",
       "        1.79232971e-01,  1.80649510e-01,  1.82080859e-01,  1.83527288e-01,\n",
       "        1.84989075e-01,  1.86466512e-01,  1.87959903e-01,  1.89469565e-01,\n",
       "        1.90995830e-01,  1.92539043e-01,  1.94099567e-01,  1.95677780e-01,\n",
       "        1.97274079e-01,  1.98888881e-01,  2.00522621e-01,  2.02175758e-01,\n",
       "        2.03848773e-01,  2.05542173e-01,  2.07256492e-01,  2.08992292e-01,\n",
       "        2.10750168e-01,  2.12530748e-01,  2.14334696e-01,  2.16162716e-01,\n",
       "        2.18015557e-01,  2.19894012e-01,  2.21798929e-01,  2.23731210e-01,\n",
       "        2.25691819e-01,  2.27681788e-01,  2.29702226e-01,  2.31754323e-01,\n",
       "        2.33839363e-01,  2.35958732e-01,  2.38113933e-01,  2.40306598e-01,\n",
       "        2.42538505e-01,  2.44811599e-01,  2.47128015e-01,  2.49490104e-01,\n",
       "        2.51900469e-01,  2.54362003e-01,  2.56877937e-01,  2.59451906e-01,\n",
       "        2.62088017e-01,  2.64790950e-01,  2.67566074e-01,  2.70419609e-01,\n",
       "        2.73358830e-01,  2.76392347e-01,  2.79530485e-01,  2.82785824e-01,\n",
       "        2.86173984e-01,  2.89714799e-01,  2.93434171e-01,  2.97367154e-01,\n",
       "        3.01563443e-01,  3.06098134e-01,  3.11095818e-01,  3.16796947e-01,\n",
       "        3.23826915e-01])"
      ]
     },
     "execution_count": 170,
     "metadata": {},
     "output_type": "execute_result"
    }
   ],
   "source": [
    "np.linalg.eigh(B2.todense())[0]"
   ]
  },
  {
   "cell_type": "code",
   "execution_count": 171,
   "metadata": {},
   "outputs": [
    {
     "data": {
      "text/plain": [
       "array([  0, 300])"
      ]
     },
     "execution_count": 171,
     "metadata": {},
     "output_type": "execute_result"
    }
   ],
   "source": [
    "m.boundary_nodes()"
   ]
  },
  {
   "cell_type": "code",
   "execution_count": 181,
   "metadata": {},
   "outputs": [
    {
     "data": {
      "text/plain": [
       "<skfem FacetBasis(MeshLine1, ElementLineP1) object>\n",
       "  Number of elements: 2\n",
       "  Number of DOFs: 301\n",
       "  Size: 64 B"
      ]
     },
     "execution_count": 181,
     "metadata": {},
     "output_type": "execute_result"
    }
   ],
   "source": [
    "fem.FacetBasis(m, e)"
   ]
  },
  {
   "cell_type": "code",
   "execution_count": 70,
   "metadata": {},
   "outputs": [
    {
     "name": "stderr",
     "output_type": "stream",
     "text": [
      "ic| u.grad.shape: (1, 2, 1)\n",
      "ic| u.grad.shape: (1, 2, 1)\n",
      "ic| u.grad.shape: (1, 2, 1)\n",
      "ic| u.grad.shape: (1, 2, 1)\n"
     ]
    },
    {
     "name": "stdout",
     "output_type": "stream",
     "text": [
      "[[1.]\n",
      " [0.]]\n",
      "[[0.]\n",
      " [1.]]\n",
      "[[1.]\n",
      " [0.]]\n",
      "[[0.]\n",
      " [1.]]\n",
      "[9.17132689e-13 1.02701922e+00 4.10908979e+00 9.24925143e+00\n",
      " 1.64525735e+01]\n"
     ]
    }
   ],
   "source": [
    "from skfem import *\n",
    "from skfem.models.poisson import laplace, mass\n",
    "from scipy.sparse.linalg import eigsh\n",
    "import numpy as np\n",
    "\n",
    "m = MeshLine(np.linspace(0, np.pi, 102))\n",
    "e = ElementLineP1()\n",
    "\n",
    "# Define the interior basis\n",
    "ib = InteriorBasis(m, e)\n",
    "\n",
    "# Define the facet basis for the boundary\n",
    "fb = FacetBasis(m, e)\n",
    "\n",
    "# Define the boundary condition\n",
    "@BilinearForm\n",
    "def boundary_flux(u, v, w):\n",
    "    ic(u.grad.shape)\n",
    "    print(v)\n",
    "    return u.grad[0] * v[0] - u.grad[-1] * v[-1]\n",
    "    return u.grad[0][0] * v[0] - u.grad[0][-1] * v[-1]\n",
    "\n",
    "# Assemble the system\n",
    "A = laplace.assemble(ib)\n",
    "M = mass.assemble(ib)\n",
    "\n",
    "# Apply the boundary condition\n",
    "A += boundary_flux.assemble(fb)\n",
    "\n",
    "# Find the Dirichlet dofs\n",
    "dofs = ib.get_dofs(m.facets_satisfying(lambda x: (x[0] == 0) | (x[0] == np.pi)))\n",
    "\n",
    "# Solve the system\n",
    "A2, M2, _, _ = condense(A, M, D=dofs)\n",
    "\n",
    "\n",
    "# Find the eigenvalues\n",
    "vals, vecs = eigsh(A2, 5, M2, which='SM')\n",
    "\n",
    "print(vals)"
   ]
  },
  {
   "cell_type": "code",
   "execution_count": 69,
   "metadata": {},
   "outputs": [
    {
     "name": "stderr",
     "output_type": "stream",
     "text": [
      "ic| vecs[:,0].shape: (100,)\n",
      "ic| m.p[0].shape: (102,)\n"
     ]
    },
    {
     "data": {
      "image/png": "[encoded data removed]",
      "text/plain": [
       "<Figure size 640x480 with 1 Axes>"
      ]
     },
     "metadata": {},
     "output_type": "display_data"
    }
   ],
   "source": [
    "ic(vecs[:,0].shape)\n",
    "ic(m.p[0].shape)\n",
    "plt.figure()\n",
    "plt.plot(vecs[:,3])\n",
    "plt.show()"
   ]
  },
  {
   "cell_type": "code",
   "execution_count": 222,
   "metadata": {},
   "outputs": [
    {
     "data": {
      "text/plain": [
       "<skfem FacetBasis(MeshLine1, ElementLineP1) object>\n",
       "  Number of elements: 2\n",
       "  Number of DOFs: 102\n",
       "  Size: 64 B"
      ]
     },
     "execution_count": 222,
     "metadata": {},
     "output_type": "execute_result"
    }
   ],
   "source": [
    "fb"
   ]
  },
  {
   "cell_type": "code",
   "execution_count": null,
   "metadata": {},
   "outputs": [],
   "source": []
  }
 ],
 "metadata": {
  "kernelspec": {
   "display_name": "base",
   "language": "python",
   "name": "python3"
  },
  "language_info": {
   "codemirror_mode": {
    "name": "ipython",
    "version": 3
   },
   "file_extension": ".py",
   "mimetype": "text/x-python",
   "name": "python",
   "nbconvert_exporter": "python",
   "pygments_lexer": "ipython3",
   "version": "3.10.12"
  }
 },
 "nbformat": 4,
 "nbformat_minor": 2
}
