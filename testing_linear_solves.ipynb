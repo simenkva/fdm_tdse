{
 "cells": [
  {
   "cell_type": "code",
   "execution_count": 1,
   "metadata": {},
   "outputs": [],
   "source": [
    "from cylinder_fdm_3d import CylinderFDM\n",
    "from icecream import ic\n",
    "import numpy as np\n",
    "from scipy.sparse.linalg import eigsh, LinearOperator, cg\n",
    "from time import time\n",
    "from matplotlib import pyplot as plt\n"
   ]
  },
  {
   "cell_type": "code",
   "execution_count": 2,
   "metadata": {},
   "outputs": [
    {
     "name": "stderr",
     "output_type": "stream",
     "text": [
      "ic| cylinder_fdm_3d.py:166 in __init__() at 06:17:44.448\n",
      "ic| self.n_r: 100, self.n_z: 100, self.n_m: 2\n",
      "ic| self.r_max: 10, self.z_max: 10\n",
      "ic| self.n_dof: 50000\n",
      "ic| rr.shape: (100, 100), zz.shape: (100, 100)\n",
      "ic| cylinder_fdm_3d.py:185 in set_potential() at 06:17:44.522\n",
      "ic| self.V_m_max: 1\n",
      "ic| 'Computing sparse matrix'\n",
      "ic| 'Setting total Hamiltonian as self.H_tot'\n",
      "ic| time_taken_sparse: 0.027211904525756836\n"
     ]
    },
    {
     "data": {
      "text/plain": [
       "0.027211904525756836"
      ]
     },
     "execution_count": 2,
     "metadata": {},
     "output_type": "execute_result"
    }
   ],
   "source": [
    "\n",
    "n_r = 100\n",
    "n_z = 100\n",
    "n_m = 2\n",
    "solver = CylinderFDM(r_max = 10, z_max = 10, n_r = n_r, n_z = n_z , n_m = n_m)\n",
    "\n",
    "rr, zz = np.meshgrid(solver.r_inner, solver.z_inner, indexing='ij')    \n",
    "ic(rr.shape, zz.shape)\n",
    "\n",
    "x0 = 0\n",
    "y0 = 0\n",
    "alpha = x0 - 1j*y0\n",
    "z0 = 0.0\n",
    "V_m = []\n",
    "V_m.append(-alpha*0.5*rr)\n",
    "V_m.append(0.5*(zz-z0)**2 + 0.5*rr**2 + 0.5*np.abs(alpha)**2)\n",
    "V_m.append(-alpha.conjugate()*0.5*rr)\n",
    "\n",
    "# V_m = []\n",
    "# V_m.append(0.5*(rr**2 + zz**2))\n",
    "solver.set_potential(V_m)\n",
    "\n",
    "ic('Computing sparse matrix')\n",
    "\n",
    "start = time()\n",
    "H_mat_sparse = solver.get_sparse_matrix_fast()\n",
    "time_taken_sparse = time() - start\n",
    "ic(time_taken_sparse)\n",
    "\n",
    "# H_mat_sparse_slow = solver.get_sparse_matrix()\n",
    "# time_taken_sparse_slow = time() - start\n",
    "# ic(time_taken_sparse_slow)\n",
    "\n",
    "# H = H_mat_sparse.todense()\n",
    "# H_slow = H_mat_sparse_slow.todense()\n",
    "\n",
    "# ic(np.linalg.norm(H - H_slow))\n"
   ]
  },
  {
   "cell_type": "code",
   "execution_count": 3,
   "metadata": {},
   "outputs": [
    {
     "name": "stderr",
     "output_type": "stream",
     "text": [
      "ic| time()-start: 1.6524946689605713\n",
      "ic| E: array([1.4999895 , 2.49159936, 2.49506368, 2.49159936, 3.48518109,\n",
      "              3.48667354, 3.49754042, 3.49992013, 3.48667354, 3.49754042])\n"
     ]
    },
    {
     "data": {
      "text/plain": [
       "array([1.4999895 , 2.49159936, 2.49506368, 2.49159936, 3.48518109,\n",
       "       3.48667354, 3.49754042, 3.49992013, 3.48667354, 3.49754042])"
      ]
     },
     "execution_count": 3,
     "metadata": {},
     "output_type": "execute_result"
    }
   ],
   "source": [
    "start = time()\n",
    "E, U = eigsh(H_mat_sparse, k=10, sigma = 1.4)\n",
    "ic(time()-start)\n",
    "ic(E)"
   ]
  },
  {
   "cell_type": "code",
   "execution_count": null,
   "metadata": {},
   "outputs": [],
   "source": []
  }
 ],
 "metadata": {
  "kernelspec": {
   "display_name": "base",
   "language": "python",
   "name": "python3"
  },
  "language_info": {
   "codemirror_mode": {
    "name": "ipython",
    "version": 3
   },
   "file_extension": ".py",
   "mimetype": "text/x-python",
   "name": "python",
   "nbconvert_exporter": "python",
   "pygments_lexer": "ipython3",
   "version": "3.10.12"
  }
 },
 "nbformat": 4,
 "nbformat_minor": 2
}
