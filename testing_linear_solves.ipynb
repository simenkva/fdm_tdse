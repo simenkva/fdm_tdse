{
 "cells": [
  {
   "cell_type": "code",
   "execution_count": 1,
   "metadata": {},
   "outputs": [],
   "source": [
    "from cylinder_fdm_3d import CylinderFDM\n",
    "from icecream import ic\n",
    "import numpy as np\n",
    "from scipy.sparse.linalg import eigsh, LinearOperator, cg\n",
    "from time import time\n",
    "from matplotlib import pyplot as plt\n",
    "from fft_tdse.simulator import LaserPulse\n",
    "from erfgau import ErfgauPotential\n",
    "\n",
    "\n"
   ]
  },
  {
   "cell_type": "code",
   "execution_count": 4,
   "metadata": {},
   "outputs": [
    {
     "name": "stderr",
     "output_type": "stream",
     "text": [
      "ic| self.m_i: array([ 0.,  1.,  2.,  3., -4., -3., -2., -1.])\n",
      "ic| cylinder_fdm_3d.py:162 in __init__() at 06:50:54.234\n",
      "ic| self.n_r: 20, self.n_z: 20, self.n_m: 8\n",
      "ic| self.r_max: 10, self.z_max: 10\n",
      "ic| self.n_dof: 3200\n",
      "ic| tt.shape: (8, 20, 20)\n",
      "    rr.shape: (8, 20, 20)\n",
      "    zz.shape: (8, 20, 20)\n",
      "ic| np.linalg.norm(V): 2088.513912956158\n",
      "ic| m: 0.0, N: 738.4011752268759\n",
      "ic| m: 1.0, N: 1.6014703311779717e-14\n",
      "ic| m: 2.0, N: 1.7484206229301394e-14\n",
      "ic| m: 3.0, N: 1.6014703311779717e-14\n",
      "ic| m: -4.0, N: 3.3591998810548666e-14\n",
      "ic| m: -3.0, N: 1.6014703311779717e-14\n",
      "ic| m: -2.0, N: 1.7484206229301394e-14\n",
      "ic| m: -1.0, N: 1.6014703311779717e-14\n",
      "ic| m_max: 0\n",
      "ic| m: 0.0\n",
      "ic| m_list[i]: 0.0, np.linalg.norm(V_m[i]): 738.4011752268759\n",
      "ic| N1: 738.4011752268759, N2: 738.4011752268759\n",
      "ic| solver.V_m[0][0,0]: (41.04308390022676+0j)\n",
      "    solver.V[0,0,0]: 41.04308390022676\n"
     ]
    },
    {
     "data": {
      "text/plain": [
       "((41.04308390022676+0j), 41.04308390022676)"
      ]
     },
     "execution_count": 4,
     "metadata": {},
     "output_type": "execute_result"
    }
   ],
   "source": [
    "\n",
    "n_r = 20\n",
    "n_z = 20\n",
    "n_m = 8\n",
    "solver = CylinderFDM(r_max = 10, z_max = 10, n_r = n_r, n_z = n_z , n_m = n_m)\n",
    "\n",
    "tt, rr, zz = solver.get_trz_meshgrid()\n",
    "#rr, zz = np.meshgrid(solver.r_inner, solver.z_inner, indexing='ij')    \n",
    "ic(tt.shape, rr.shape, zz.shape)\n",
    "xx = rr*np.cos(tt)\n",
    "yy = rr*np.sin(tt)\n",
    "\n",
    "# x0 = 0\n",
    "# y0 = 0\n",
    "# alpha = x0 - 1j*y0\n",
    "# z0 = 0.0\n",
    "# V_m = []\n",
    "# # V_m.append(-alpha*0.5*rr)\n",
    "# # V_m.append(0.5*(zz-z0)**2 + 0.5*rr**2 + 0.5*np.abs(alpha)**2)\n",
    "# # V_m.append(-alpha.conjugate()*0.5*rr)\n",
    "# erfgau = ErfgauPotential(mu=1.0)\n",
    "# V_m.append(erfgau.potential_radial((rr*rr + zz*zz)**.5))\n",
    "\n",
    "erfgau = ErfgauPotential(mu=1.0)\n",
    "#V = erfgau.potential_radial((rr*rr + zz*zz)**.5)\n",
    "V =  0.5*((xx-0.0)**2 + (yy+0.)**2 + zz**2)\n",
    "\n",
    "ic(np.linalg.norm(V))\n",
    "# V_m = []\n",
    "# V_m.append(0.5*(rr**2 + zz**2))\n",
    "#solver.set_realspace_potential(V, rotation_symmetric=False)\n",
    "solver.set_realspace_potential(V[0], rotation_symmetric=True)\n",
    "#solver.set_td_potential(D_m)\n",
    "\n",
    "N1 = np.linalg.norm(solver.V_m[0]) \n",
    "N2 = np.linalg.norm(solver.V[0,:,:])\n",
    "ic(N1, N2)\n",
    "\n",
    "\n",
    "ic(solver.V_m[0][0,0], solver.V[0,0,0])"
   ]
  },
  {
   "cell_type": "code",
   "execution_count": 5,
   "metadata": {},
   "outputs": [
    {
     "name": "stderr",
     "output_type": "stream",
     "text": [
      "ic| 'Computing sparse matrix'\n",
      "ic| V_m_max: 0\n",
      "ic| m: 0, m_ind: 0\n",
      "ic| diagonals.shape: (3,)\n",
      "ic| data.shape: (3, 400)\n",
      "    diagonals.shape: (3,)\n",
      "    diagonals: array([-3200,     0,  3200])\n",
      "ic| 'Setting total Hamiltonian as self.H_tot'\n",
      "ic| hasattr(solver, 'H_kin'): True\n",
      "ic| hasattr(solver, 'H_pot'): True\n",
      "ic| hasattr(solver, 'H_pot_td'): False\n",
      "ic| time_taken_sparse: 0.04837989807128906\n",
      "ic| self.n_dof: 3200\n",
      "ic| np.linalg.norm(H - H_slow): 1953.6258774481405\n"
     ]
    },
    {
     "data": {
      "text/plain": [
       "1953.6258774481405"
      ]
     },
     "execution_count": 5,
     "metadata": {},
     "output_type": "execute_result"
    }
   ],
   "source": [
    "\n",
    "ic('Computing sparse matrix')\n",
    "\n",
    "start = time()\n",
    "H_mat_sparse = solver.get_sparse_matrix_fast()\n",
    "ic(hasattr(solver, 'H_kin'))\n",
    "ic(hasattr(solver, 'H_pot'))\n",
    "ic(hasattr(solver, 'H_pot_td'))\n",
    "\n",
    "time_taken_sparse = time() - start\n",
    "ic(time_taken_sparse)\n",
    "\n",
    "H_mat_sparse_slow = solver.get_sparse_matrix()\n",
    "#time_taken_sparse_slow = time() - start\n",
    "# ic(time_taken_sparse_slow)\n",
    "\n",
    "H = H_mat_sparse.todense()\n",
    "H_slow = H_mat_sparse_slow.todense()\n",
    "\n",
    "ic(np.linalg.norm(H - H_slow))\n"
   ]
  },
  {
   "cell_type": "code",
   "execution_count": 4,
   "metadata": {},
   "outputs": [
    {
     "name": "stderr",
     "output_type": "stream",
     "text": [
      "ic| np.sort(E): array([1.50526377, 2.32424682, 2.33094513, 2.3567457 , 3.17572875,\n",
      "                       3.18242706, 3.18554129, 3.42153894, 3.42504585, 3.43267545])\n",
      "ic| np.sort(E): array([1.49282207, 2.3242479 , 2.33727553, 2.344304  , 3.17309958,\n",
      "                       3.17572983, 3.18875745, 3.41444916, 3.42023375, 3.4254997 ])\n"
     ]
    },
    {
     "data": {
      "text/plain": [
       "array([1.49282207, 2.3242479 , 2.33727553, 2.344304  , 3.17309958,\n",
       "       3.17572983, 3.18875745, 3.41444916, 3.42023375, 3.4254997 ])"
      ]
     },
     "execution_count": 4,
     "metadata": {},
     "output_type": "execute_result"
    }
   ],
   "source": [
    "E, U = eigsh(H_mat_sparse, k=10, sigma=-0.6)\n",
    "ic(np.sort(E))\n",
    "E, U = eigsh(H_mat_sparse_slow, k=10, sigma=-0.6)\n",
    "ic(np.sort(E))"
   ]
  },
  {
   "cell_type": "code",
   "execution_count": 9,
   "metadata": {},
   "outputs": [
    {
     "data": {
      "text/plain": [
       "array([-0.49326609, -0.11682082, -0.12225825, -0.12237373, -0.12237373])"
      ]
     },
     "execution_count": 9,
     "metadata": {},
     "output_type": "execute_result"
    }
   ],
   "source": [
    "E"
   ]
  },
  {
   "cell_type": "code",
   "execution_count": null,
   "metadata": {},
   "outputs": [],
   "source": [
    "psi = np.zeros(solver.shape, dtype=np.complex128)\n",
    "psi[n_m,...] = rr**.5 * np.exp(-0.5*(rr**2 + zz**2))\n",
    "psi[n_m,...] = rr**.5 * np.exp(-(rr**2 + zz**2)**.5)\n",
    "psi = psi.flatten()\n",
    "psi /= np.linalg.norm(psi)\n",
    "E = np.dot(psi.conjugate(), H_mat_sparse.dot(psi))\n",
    "ic(E)"
   ]
  },
  {
   "cell_type": "code",
   "execution_count": 4,
   "metadata": {},
   "outputs": [
    {
     "name": "stderr",
     "output_type": "stream",
     "text": [
      "/Users/simenkva/anaconda3/lib/python3.10/site-packages/scipy/sparse/linalg/_dsolve/linsolve.py:395: SparseEfficiencyWarning: splu converted its input to CSC format\n",
      "  warn('splu converted its input to CSC format', SparseEfficiencyWarning)\n",
      "/Users/simenkva/anaconda3/lib/python3.10/site-packages/scipy/sparse/linalg/_dsolve/linsolve.py:285: SparseEfficiencyWarning: spsolve is more efficient when sparse b is in the CSC matrix format\n",
      "  warn('spsolve is more efficient when sparse b '\n",
      "ic| 'exp_T_z', time()-start: 0.056507110595703125\n",
      "ic| 'exp_T_r', time()-start: 0.8096699714660645\n"
     ]
    },
    {
     "ename": "KeyboardInterrupt",
     "evalue": "",
     "output_type": "error",
     "traceback": [
      "\u001b[0;31m---------------------------------------------------------------------------\u001b[0m",
      "\u001b[0;31mKeyboardInterrupt\u001b[0m                         Traceback (most recent call last)",
      "Cell \u001b[0;32mIn[4], line 3\u001b[0m\n\u001b[1;32m      1\u001b[0m laser \u001b[38;5;241m=\u001b[39m LaserPulse(t0\u001b[38;5;241m=\u001b[39m\u001b[38;5;241m0\u001b[39m, T\u001b[38;5;241m=\u001b[39m\u001b[38;5;241m100\u001b[39m, E0\u001b[38;5;241m=\u001b[39m\u001b[38;5;241m0.1\u001b[39m, omega\u001b[38;5;241m=\u001b[39m\u001b[38;5;241m0.057\u001b[39m)\n\u001b[1;32m      2\u001b[0m dt \u001b[38;5;241m=\u001b[39m \u001b[38;5;241m0.01\u001b[39m\n\u001b[0;32m----> 3\u001b[0m \u001b[43msolver\u001b[49m\u001b[38;5;241;43m.\u001b[39;49m\u001b[43msetup_splitting_scheme\u001b[49m\u001b[43m(\u001b[49m\u001b[43mdt\u001b[49m\u001b[43m,\u001b[49m\u001b[43m \u001b[49m\u001b[43mtd_potential\u001b[49m\u001b[38;5;241;43m=\u001b[39;49m\u001b[38;5;28;43;01mTrue\u001b[39;49;00m\u001b[43m,\u001b[49m\u001b[43m \u001b[49m\u001b[43menvelope\u001b[49m\u001b[43m \u001b[49m\u001b[38;5;241;43m=\u001b[39;49m\u001b[43m \u001b[49m\u001b[43mlaser\u001b[49m\u001b[43m)\u001b[49m\n",
      "File \u001b[0;32m~/Code/fdm_tdse/cylinder_fdm_3d.py:515\u001b[0m, in \u001b[0;36mCylinderFDM.setup_splitting_scheme\u001b[0;34m(self, dt, td_potential, envelope)\u001b[0m\n\u001b[1;32m    513\u001b[0m     \u001b[38;5;66;03m# The block is ready, let us exponentiate it.\u001b[39;00m\n\u001b[1;32m    514\u001b[0m     \u001b[38;5;28;01mfor\u001b[39;00m j \u001b[38;5;129;01min\u001b[39;00m \u001b[38;5;28mrange\u001b[39m(\u001b[38;5;28mself\u001b[39m\u001b[38;5;241m.\u001b[39mn_r\u001b[38;5;241m*\u001b[39m\u001b[38;5;28mself\u001b[39m\u001b[38;5;241m.\u001b[39mn_z):\n\u001b[0;32m--> 515\u001b[0m         blocks[j, :, :] \u001b[38;5;241m=\u001b[39m \u001b[43mexpm\u001b[49m\u001b[43m(\u001b[49m\u001b[38;5;241;43m-\u001b[39;49m\u001b[38;5;241;43m1\u001b[39;49m\u001b[43mj\u001b[49m\u001b[38;5;241;43m*\u001b[39;49m\u001b[43mdt\u001b[49m\u001b[38;5;241;43m*\u001b[39;49m\u001b[43mblocks\u001b[49m\u001b[43m[\u001b[49m\u001b[43mj\u001b[49m\u001b[43m,\u001b[49m\u001b[43m \u001b[49m\u001b[43m:\u001b[49m\u001b[43m,\u001b[49m\u001b[43m \u001b[49m\u001b[43m:\u001b[49m\u001b[43m]\u001b[49m\u001b[43m)\u001b[49m          \n\u001b[1;32m    517\u001b[0m ic(\u001b[38;5;124m'\u001b[39m\u001b[38;5;124mexp_T_r, 1 \u001b[39m\u001b[38;5;124m'\u001b[39m, time()\u001b[38;5;241m-\u001b[39mstart)\n\u001b[1;32m    520\u001b[0m the_blocks \u001b[38;5;241m=\u001b[39m [[spdiags(blocks[:, m, m2], \u001b[38;5;241m0\u001b[39m, n_dof, n_dof) \u001b[38;5;28;01mfor\u001b[39;00m m \u001b[38;5;129;01min\u001b[39;00m \u001b[38;5;28mrange\u001b[39m(\u001b[38;5;241m2\u001b[39m\u001b[38;5;241m*\u001b[39m\u001b[38;5;28mself\u001b[39m\u001b[38;5;241m.\u001b[39mn_m\u001b[38;5;241m+\u001b[39m\u001b[38;5;241m1\u001b[39m)] \u001b[38;5;28;01mfor\u001b[39;00m m2 \u001b[38;5;129;01min\u001b[39;00m \u001b[38;5;28mrange\u001b[39m(\u001b[38;5;241m2\u001b[39m\u001b[38;5;241m*\u001b[39m\u001b[38;5;28mself\u001b[39m\u001b[38;5;241m.\u001b[39mn_m\u001b[38;5;241m+\u001b[39m\u001b[38;5;241m1\u001b[39m)]\n",
      "File \u001b[0;32m~/anaconda3/lib/python3.10/site-packages/scipy/sparse/linalg/_matfuncs.py:590\u001b[0m, in \u001b[0;36mexpm\u001b[0;34m(A)\u001b[0m\n\u001b[1;32m    545\u001b[0m \u001b[38;5;28;01mdef\u001b[39;00m \u001b[38;5;21mexpm\u001b[39m(A):\n\u001b[1;32m    546\u001b[0m \u001b[38;5;250m    \u001b[39m\u001b[38;5;124;03m\"\"\"\u001b[39;00m\n\u001b[1;32m    547\u001b[0m \u001b[38;5;124;03m    Compute the matrix exponential using Pade approximation.\u001b[39;00m\n\u001b[1;32m    548\u001b[0m \n\u001b[0;32m   (...)\u001b[0m\n\u001b[1;32m    588\u001b[0m \u001b[38;5;124;03m           [  0.        ,   0.        ,  20.08553692]])\u001b[39;00m\n\u001b[1;32m    589\u001b[0m \u001b[38;5;124;03m    \"\"\"\u001b[39;00m\n\u001b[0;32m--> 590\u001b[0m     \u001b[38;5;28;01mreturn\u001b[39;00m \u001b[43m_expm\u001b[49m\u001b[43m(\u001b[49m\u001b[43mA\u001b[49m\u001b[43m,\u001b[49m\u001b[43m \u001b[49m\u001b[43muse_exact_onenorm\u001b[49m\u001b[38;5;241;43m=\u001b[39;49m\u001b[38;5;124;43m'\u001b[39;49m\u001b[38;5;124;43mauto\u001b[39;49m\u001b[38;5;124;43m'\u001b[39;49m\u001b[43m)\u001b[49m\n",
      "File \u001b[0;32m~/anaconda3/lib/python3.10/site-packages/scipy/sparse/linalg/_matfuncs.py:642\u001b[0m, in \u001b[0;36m_expm\u001b[0;34m(A, use_exact_onenorm)\u001b[0m\n\u001b[1;32m    640\u001b[0m \u001b[38;5;28;01mif\u001b[39;00m eta_1 \u001b[38;5;241m<\u001b[39m \u001b[38;5;241m1.495585217958292e-002\u001b[39m \u001b[38;5;129;01mand\u001b[39;00m _ell(h\u001b[38;5;241m.\u001b[39mA, \u001b[38;5;241m3\u001b[39m) \u001b[38;5;241m==\u001b[39m \u001b[38;5;241m0\u001b[39m:\n\u001b[1;32m    641\u001b[0m     U, V \u001b[38;5;241m=\u001b[39m h\u001b[38;5;241m.\u001b[39mpade3()\n\u001b[0;32m--> 642\u001b[0m     \u001b[38;5;28;01mreturn\u001b[39;00m \u001b[43m_solve_P_Q\u001b[49m\u001b[43m(\u001b[49m\u001b[43mU\u001b[49m\u001b[43m,\u001b[49m\u001b[43m \u001b[49m\u001b[43mV\u001b[49m\u001b[43m,\u001b[49m\u001b[43m \u001b[49m\u001b[43mstructure\u001b[49m\u001b[38;5;241;43m=\u001b[39;49m\u001b[43mstructure\u001b[49m\u001b[43m)\u001b[49m\n\u001b[1;32m    644\u001b[0m \u001b[38;5;66;03m# Try Pade order 5.\u001b[39;00m\n\u001b[1;32m    645\u001b[0m eta_2 \u001b[38;5;241m=\u001b[39m \u001b[38;5;28mmax\u001b[39m(h\u001b[38;5;241m.\u001b[39md4_tight, h\u001b[38;5;241m.\u001b[39md6_loose)\n",
      "File \u001b[0;32m~/anaconda3/lib/python3.10/site-packages/scipy/sparse/linalg/_matfuncs.py:710\u001b[0m, in \u001b[0;36m_solve_P_Q\u001b[0;34m(U, V, structure)\u001b[0m\n\u001b[1;32m    708\u001b[0m     \u001b[38;5;28;01mreturn\u001b[39;00m solve(Q, P)\n\u001b[1;32m    709\u001b[0m \u001b[38;5;28;01melif\u001b[39;00m structure \u001b[38;5;241m==\u001b[39m UPPER_TRIANGULAR:\n\u001b[0;32m--> 710\u001b[0m     \u001b[38;5;28;01mreturn\u001b[39;00m \u001b[43msolve_triangular\u001b[49m\u001b[43m(\u001b[49m\u001b[43mQ\u001b[49m\u001b[43m,\u001b[49m\u001b[43m \u001b[49m\u001b[43mP\u001b[49m\u001b[43m)\u001b[49m\n\u001b[1;32m    711\u001b[0m \u001b[38;5;28;01melse\u001b[39;00m:\n\u001b[1;32m    712\u001b[0m     \u001b[38;5;28;01mraise\u001b[39;00m \u001b[38;5;167;01mValueError\u001b[39;00m(\u001b[38;5;124m'\u001b[39m\u001b[38;5;124munsupported matrix structure: \u001b[39m\u001b[38;5;124m'\u001b[39m \u001b[38;5;241m+\u001b[39m \u001b[38;5;28mstr\u001b[39m(structure))\n",
      "File \u001b[0;32m~/anaconda3/lib/python3.10/site-packages/scipy/linalg/_basic.py:350\u001b[0m, in \u001b[0;36msolve_triangular\u001b[0;34m(a, b, trans, lower, unit_diagonal, overwrite_b, check_finite)\u001b[0m\n\u001b[1;32m    346\u001b[0m     x, info \u001b[38;5;241m=\u001b[39m trtrs(a1, b1, overwrite_b\u001b[38;5;241m=\u001b[39moverwrite_b, lower\u001b[38;5;241m=\u001b[39mlower,\n\u001b[1;32m    347\u001b[0m                     trans\u001b[38;5;241m=\u001b[39mtrans, unitdiag\u001b[38;5;241m=\u001b[39munit_diagonal)\n\u001b[1;32m    348\u001b[0m \u001b[38;5;28;01melse\u001b[39;00m:\n\u001b[1;32m    349\u001b[0m     \u001b[38;5;66;03m# transposed system is solved since trtrs expects Fortran ordering\u001b[39;00m\n\u001b[0;32m--> 350\u001b[0m     x, info \u001b[38;5;241m=\u001b[39m \u001b[43mtrtrs\u001b[49m\u001b[43m(\u001b[49m\u001b[43ma1\u001b[49m\u001b[38;5;241;43m.\u001b[39;49m\u001b[43mT\u001b[49m\u001b[43m,\u001b[49m\u001b[43m \u001b[49m\u001b[43mb1\u001b[49m\u001b[43m,\u001b[49m\u001b[43m \u001b[49m\u001b[43moverwrite_b\u001b[49m\u001b[38;5;241;43m=\u001b[39;49m\u001b[43moverwrite_b\u001b[49m\u001b[43m,\u001b[49m\u001b[43m \u001b[49m\u001b[43mlower\u001b[49m\u001b[38;5;241;43m=\u001b[39;49m\u001b[38;5;129;43;01mnot\u001b[39;49;00m\u001b[43m \u001b[49m\u001b[43mlower\u001b[49m\u001b[43m,\u001b[49m\n\u001b[1;32m    351\u001b[0m \u001b[43m                    \u001b[49m\u001b[43mtrans\u001b[49m\u001b[38;5;241;43m=\u001b[39;49m\u001b[38;5;129;43;01mnot\u001b[39;49;00m\u001b[43m \u001b[49m\u001b[43mtrans\u001b[49m\u001b[43m,\u001b[49m\u001b[43m \u001b[49m\u001b[43munitdiag\u001b[49m\u001b[38;5;241;43m=\u001b[39;49m\u001b[43munit_diagonal\u001b[49m\u001b[43m)\u001b[49m\n\u001b[1;32m    353\u001b[0m \u001b[38;5;28;01mif\u001b[39;00m info \u001b[38;5;241m==\u001b[39m \u001b[38;5;241m0\u001b[39m:\n\u001b[1;32m    354\u001b[0m     \u001b[38;5;28;01mreturn\u001b[39;00m x\n",
      "\u001b[0;31mKeyboardInterrupt\u001b[0m: "
     ]
    }
   ],
   "source": [
    "laser = LaserPulse(t0=0, T=100, E0=0.1, omega=0.057)\n",
    "dt = 0.01\n",
    "solver.setup_splitting_scheme(dt, td_potential=True, envelope = laser)"
   ]
  },
  {
   "cell_type": "code",
   "execution_count": 5,
   "metadata": {},
   "outputs": [
    {
     "name": "stderr",
     "output_type": "stream",
     "text": [
      "ic| t: 0.0, E: -0.49338710216907994\n",
      "ic| t: 0.1, E: -0.4933871021692946\n",
      "ic| t: 0.2, E: -0.49338710216922577\n"
     ]
    },
    {
     "ename": "KeyboardInterrupt",
     "evalue": "",
     "output_type": "error",
     "traceback": [
      "\u001b[0;31m---------------------------------------------------------------------------\u001b[0m",
      "\u001b[0;31mKeyboardInterrupt\u001b[0m                         Traceback (most recent call last)",
      "Cell \u001b[0;32mIn[5], line 13\u001b[0m\n\u001b[1;32m     11\u001b[0m start \u001b[38;5;241m=\u001b[39m time()\n\u001b[1;32m     12\u001b[0m \u001b[38;5;66;03m#psi = solver.propagate_exp(psi, t=t)\u001b[39;00m\n\u001b[0;32m---> 13\u001b[0m psi \u001b[38;5;241m=\u001b[39m \u001b[43msolver\u001b[49m\u001b[38;5;241;43m.\u001b[39;49m\u001b[43mpropagate_crank_nicolson\u001b[49m\u001b[43m(\u001b[49m\u001b[43mpsi\u001b[49m\u001b[43m,\u001b[49m\u001b[43m \u001b[49m\u001b[43mt\u001b[49m\u001b[38;5;241;43m=\u001b[39;49m\u001b[43mt\u001b[49m\u001b[43m)\u001b[49m\n\u001b[1;32m     14\u001b[0m \u001b[38;5;66;03m#psi /= np.linalg.norm(psi)\u001b[39;00m\n\u001b[1;32m     16\u001b[0m E \u001b[38;5;241m=\u001b[39m np\u001b[38;5;241m.\u001b[39mdot(psi\u001b[38;5;241m.\u001b[39mconjugate(), H_mat_sparse\u001b[38;5;241m.\u001b[39mdot(psi))\u001b[38;5;241m.\u001b[39mreal\n",
      "File \u001b[0;32m~/Code/fdm_tdse/cylinder_fdm_3d.py:462\u001b[0m, in \u001b[0;36mCylinderFDM.propagate_crank_nicolson\u001b[0;34m(self, psi, t)\u001b[0m\n\u001b[1;32m    458\u001b[0m         rhs \u001b[38;5;241m=\u001b[39m psi \u001b[38;5;241m+\u001b[39m \u001b[38;5;241m0.5\u001b[39m \u001b[38;5;241m*\u001b[39m \u001b[38;5;28mself\u001b[39m\u001b[38;5;241m.\u001b[39mA0 \u001b[38;5;241m@\u001b[39m psi\n\u001b[1;32m    459\u001b[0m         U \u001b[38;5;241m=\u001b[39m LinearOperator((\u001b[38;5;28mself\u001b[39m\u001b[38;5;241m.\u001b[39mn_dof, \u001b[38;5;28mself\u001b[39m\u001b[38;5;241m.\u001b[39mn_dof), matvec\u001b[38;5;241m=\u001b[39m\u001b[38;5;28;01mlambda\u001b[39;00m psi: psi \u001b[38;5;241m-\u001b[39m \u001b[38;5;241m0.5\u001b[39m \u001b[38;5;241m*\u001b[39m \u001b[38;5;28mself\u001b[39m\u001b[38;5;241m.\u001b[39mA0 \u001b[38;5;241m@\u001b[39m psi, dtype\u001b[38;5;241m=\u001b[39mnp\u001b[38;5;241m.\u001b[39mcomplex128)\n\u001b[0;32m--> 462\u001b[0m psi \u001b[38;5;241m=\u001b[39m \u001b[43mgmres\u001b[49m\u001b[43m(\u001b[49m\u001b[43mU\u001b[49m\u001b[43m,\u001b[49m\u001b[43m \u001b[49m\u001b[43mrhs\u001b[49m\u001b[43m,\u001b[49m\u001b[43m \u001b[49m\u001b[43mtol\u001b[49m\u001b[38;5;241;43m=\u001b[39;49m\u001b[38;5;241;43m1e-12\u001b[39;49m\u001b[43m,\u001b[49m\u001b[43m \u001b[49m\u001b[43mmaxiter\u001b[49m\u001b[38;5;241;43m=\u001b[39;49m\u001b[38;5;241;43m1000\u001b[39;49m\u001b[43m)\u001b[49m[\u001b[38;5;241m0\u001b[39m]\n\u001b[1;32m    464\u001b[0m \u001b[38;5;66;03m# U = identity(self.n_dof) + 0.5j*dt*self.H_kin + 0.5j*dt*self.H_pot + 0.5j*dt*envelope*self.H_pot_td\u001b[39;00m\n\u001b[1;32m    465\u001b[0m \u001b[38;5;66;03m# psi = spsolve(U, rhs)\u001b[39;00m\n\u001b[1;32m    467\u001b[0m \u001b[38;5;28;01mreturn\u001b[39;00m psi\u001b[38;5;241m.\u001b[39mreshape(shape)\n",
      "File \u001b[0;32m<decorator-gen-5>:2\u001b[0m, in \u001b[0;36mgmres\u001b[0;34m(A, b, x0, tol, restart, maxiter, M, callback, restrt, atol, callback_type)\u001b[0m\n",
      "File \u001b[0;32m~/anaconda3/lib/python3.10/site-packages/scipy/_lib/_threadsafety.py:44\u001b[0m, in \u001b[0;36mReentrancyLock.decorate.<locals>.caller\u001b[0;34m(func, *a, **kw)\u001b[0m\n\u001b[1;32m     42\u001b[0m \u001b[38;5;28;01mdef\u001b[39;00m \u001b[38;5;21mcaller\u001b[39m(func, \u001b[38;5;241m*\u001b[39ma, \u001b[38;5;241m*\u001b[39m\u001b[38;5;241m*\u001b[39mkw):\n\u001b[1;32m     43\u001b[0m     \u001b[38;5;28;01mwith\u001b[39;00m \u001b[38;5;28mself\u001b[39m:\n\u001b[0;32m---> 44\u001b[0m         \u001b[38;5;28;01mreturn\u001b[39;00m \u001b[43mfunc\u001b[49m\u001b[43m(\u001b[49m\u001b[38;5;241;43m*\u001b[39;49m\u001b[43ma\u001b[49m\u001b[43m,\u001b[49m\u001b[43m \u001b[49m\u001b[38;5;241;43m*\u001b[39;49m\u001b[38;5;241;43m*\u001b[39;49m\u001b[43mkw\u001b[49m\u001b[43m)\u001b[49m\n",
      "File \u001b[0;32m~/anaconda3/lib/python3.10/site-packages/scipy/sparse/linalg/_isolve/iterative.py:671\u001b[0m, in \u001b[0;36mgmres\u001b[0;34m(A, b, x0, tol, restart, maxiter, M, callback, restrt, atol, callback_type)\u001b[0m\n\u001b[1;32m    668\u001b[0m \u001b[38;5;28;01mwhile\u001b[39;00m \u001b[38;5;28;01mTrue\u001b[39;00m:\n\u001b[1;32m    669\u001b[0m     olditer \u001b[38;5;241m=\u001b[39m iter_\n\u001b[1;32m    670\u001b[0m     x, iter_, presid, info, ndx1, ndx2, sclr1, sclr2, ijob \u001b[38;5;241m=\u001b[39m \\\n\u001b[0;32m--> 671\u001b[0m        \u001b[43mrevcom\u001b[49m\u001b[43m(\u001b[49m\u001b[43mb\u001b[49m\u001b[43m,\u001b[49m\u001b[43m \u001b[49m\u001b[43mx\u001b[49m\u001b[43m,\u001b[49m\u001b[43m \u001b[49m\u001b[43mrestrt\u001b[49m\u001b[43m,\u001b[49m\u001b[43m \u001b[49m\u001b[43mwork\u001b[49m\u001b[43m,\u001b[49m\u001b[43m \u001b[49m\u001b[43mwork2\u001b[49m\u001b[43m,\u001b[49m\u001b[43m \u001b[49m\u001b[43miter_\u001b[49m\u001b[43m,\u001b[49m\u001b[43m \u001b[49m\u001b[43mpresid\u001b[49m\u001b[43m,\u001b[49m\u001b[43m \u001b[49m\u001b[43minfo\u001b[49m\u001b[43m,\u001b[49m\u001b[43m \u001b[49m\u001b[43mndx1\u001b[49m\u001b[43m,\u001b[49m\u001b[43m \u001b[49m\u001b[43mndx2\u001b[49m\u001b[43m,\u001b[49m\u001b[43m \u001b[49m\u001b[43mijob\u001b[49m\u001b[43m,\u001b[49m\u001b[43m \u001b[49m\u001b[43mptol\u001b[49m\u001b[43m)\u001b[49m\n\u001b[1;32m    672\u001b[0m     \u001b[38;5;28;01mif\u001b[39;00m callback_type \u001b[38;5;241m==\u001b[39m \u001b[38;5;124m'\u001b[39m\u001b[38;5;124mx\u001b[39m\u001b[38;5;124m'\u001b[39m \u001b[38;5;129;01mand\u001b[39;00m iter_ \u001b[38;5;241m!=\u001b[39m olditer:\n\u001b[1;32m    673\u001b[0m         callback(x)\n",
      "\u001b[0;31mKeyboardInterrupt\u001b[0m: "
     ]
    }
   ],
   "source": [
    "laser = LaserPulse(t0=0, T=100, E0=0.1, omega=0.057)\n",
    "\n",
    "\n",
    "t_range = np.linspace(0, 100, 1001)\n",
    "dt = t_range[1] - t_range[0]\n",
    "\n",
    "solver.setup_propagate(dt=dt, td_potential=True, envelope=laser)\n",
    "\n",
    "for i in range(len(t_range)):\n",
    "    t = t_range[i]\n",
    "    start = time()\n",
    "    #psi = solver.propagate_exp(psi, t=t)\n",
    "    psi = solver.propagate_crank_nicolson(psi, t=t)\n",
    "    #psi /= np.linalg.norm(psi)\n",
    "    \n",
    "    E = np.dot(psi.conjugate(), H_mat_sparse.dot(psi)).real\n",
    "    ic(t, E)"
   ]
  },
  {
   "cell_type": "code",
   "execution_count": 7,
   "metadata": {},
   "outputs": [],
   "source": [
    "A = LinearOperator((solver.n_dof, solver.n_dof), matvec=lambda x: solver.apply_hamiltonian(x.reshape(solver.shape)).flatten())"
   ]
  },
  {
   "cell_type": "code",
   "execution_count": 12,
   "metadata": {},
   "outputs": [],
   "source": [
    "from scipy.sparse.linalg import expm_multiply\n",
    "psi = expm_multiply(-1j*0.01*H_mat_sparse, U[:,0])"
   ]
  },
  {
   "cell_type": "code",
   "execution_count": 27,
   "metadata": {},
   "outputs": [
    {
     "name": "stderr",
     "output_type": "stream",
     "text": [
      "/var/folders/qc/b2y8zg713_x554g8ykkcbcbh0000gp/T/ipykernel_12962/1221239713.py:25: UserWarning: Trace of LinearOperator not available, it will be estimated. Provide `traceA` to ensure performance.\n",
      "  psi2 = expm_multiply(A, psi)\n",
      "ic| np.average(np.abs(test)): 1.1821938933356382\n",
      "ic| np.std(np.abs(test)): 1.8926329429674618\n"
     ]
    },
    {
     "data": {
      "text/plain": [
       "1.8926329429674618"
      ]
     },
     "execution_count": 27,
     "metadata": {},
     "output_type": "execute_result"
    }
   ],
   "source": [
    "class ExampleLinOp(LinearOperator):\n",
    "    def __init__(self, solver, dt):\n",
    "        self.solver = solver\n",
    "        self.dt = dt\n",
    "        self.trace = -1j*dt*8094430.916122656\n",
    "        super().__init__(dtype=complex, shape=(solver.n_dof, solver.n_dof))\n",
    "\n",
    "    def _matvec(self, v):\n",
    "        \n",
    "        return -1j*self.dt*self.solver.apply_hamiltonian(v.reshape(self.solver.shape)).flatten()\n",
    "    \n",
    "    def _rmatvec(self, v):\n",
    "        # operator defined to be Hermitian\n",
    "        return -self._matvec(v)\n",
    "    \n",
    "    \n",
    "from scipy.sparse.linalg import expm_multiply\n",
    "\n",
    "psi = U[:,0]\n",
    "\n",
    "dt = 0.01 \n",
    "\n",
    "A = ExampleLinOp(solver, dt)\n",
    "\n",
    "psi2 = expm_multiply(A, psi)\n",
    "\n",
    "test = psi2/psi\n",
    "\n",
    "ic(np.average(np.abs(test)))\n",
    "ic(np.std(np.abs(test)))\n"
   ]
  },
  {
   "cell_type": "code",
   "execution_count": 21,
   "metadata": {},
   "outputs": [
    {
     "data": {
      "text/plain": [
       "(8094430.916122656+0j)"
      ]
     },
     "execution_count": 21,
     "metadata": {},
     "output_type": "execute_result"
    }
   ],
   "source": [
    "H_mat_sparse.trace()"
   ]
  },
  {
   "cell_type": "code",
   "execution_count": 28,
   "metadata": {},
   "outputs": [],
   "source": [
    "A = LinearOperator((solver.n_dof, solver.n_dof), matvec=lambda x: solver.apply_hamiltonian(x.reshape(solver.shape)).flatten(), rmatvec=lambda x: solver.apply_hamiltonian(x.reshape(solver.shape)).flatten())"
   ]
  },
  {
   "cell_type": "code",
   "execution_count": 9,
   "metadata": {},
   "outputs": [
    {
     "name": "stdout",
     "output_type": "stream",
     "text": [
      "Help on function spsolve in module scipy.sparse.linalg._dsolve.linsolve:\n",
      "\n",
      "spsolve(A, b, permc_spec=None, use_umfpack=True)\n",
      "    Solve the sparse linear system Ax=b, where b may be a vector or a matrix.\n",
      "    \n",
      "    Parameters\n",
      "    ----------\n",
      "    A : ndarray or sparse matrix\n",
      "        The square matrix A will be converted into CSC or CSR form\n",
      "    b : ndarray or sparse matrix\n",
      "        The matrix or vector representing the right hand side of the equation.\n",
      "        If a vector, b.shape must be (n,) or (n, 1).\n",
      "    permc_spec : str, optional\n",
      "        How to permute the columns of the matrix for sparsity preservation.\n",
      "        (default: 'COLAMD')\n",
      "    \n",
      "        - ``NATURAL``: natural ordering.\n",
      "        - ``MMD_ATA``: minimum degree ordering on the structure of A^T A.\n",
      "        - ``MMD_AT_PLUS_A``: minimum degree ordering on the structure of A^T+A.\n",
      "        - ``COLAMD``: approximate minimum degree column ordering [1]_, [2]_.\n",
      "    \n",
      "    use_umfpack : bool, optional\n",
      "        if True (default) then use UMFPACK for the solution [3]_, [4]_, [5]_,\n",
      "        [6]_ . This is only referenced if b is a vector and\n",
      "        ``scikits.umfpack`` is installed.\n",
      "    \n",
      "    Returns\n",
      "    -------\n",
      "    x : ndarray or sparse matrix\n",
      "        the solution of the sparse linear equation.\n",
      "        If b is a vector, then x is a vector of size A.shape[1]\n",
      "        If b is a matrix, then x is a matrix of size (A.shape[1], b.shape[1])\n",
      "    \n",
      "    Notes\n",
      "    -----\n",
      "    For solving the matrix expression AX = B, this solver assumes the resulting\n",
      "    matrix X is sparse, as is often the case for very sparse inputs.  If the\n",
      "    resulting X is dense, the construction of this sparse result will be\n",
      "    relatively expensive.  In that case, consider converting A to a dense\n",
      "    matrix and using scipy.linalg.solve or its variants.\n",
      "    \n",
      "    References\n",
      "    ----------\n",
      "    .. [1] T. A. Davis, J. R. Gilbert, S. Larimore, E. Ng, Algorithm 836:\n",
      "           COLAMD, an approximate column minimum degree ordering algorithm,\n",
      "           ACM Trans. on Mathematical Software, 30(3), 2004, pp. 377--380.\n",
      "           :doi:`10.1145/1024074.1024080`\n",
      "    \n",
      "    .. [2] T. A. Davis, J. R. Gilbert, S. Larimore, E. Ng, A column approximate\n",
      "           minimum degree ordering algorithm, ACM Trans. on Mathematical\n",
      "           Software, 30(3), 2004, pp. 353--376. :doi:`10.1145/1024074.1024079`\n",
      "    \n",
      "    .. [3] T. A. Davis, Algorithm 832:  UMFPACK - an unsymmetric-pattern\n",
      "           multifrontal method with a column pre-ordering strategy, ACM\n",
      "           Trans. on Mathematical Software, 30(2), 2004, pp. 196--199.\n",
      "           https://dl.acm.org/doi/abs/10.1145/992200.992206\n",
      "    \n",
      "    .. [4] T. A. Davis, A column pre-ordering strategy for the\n",
      "           unsymmetric-pattern multifrontal method, ACM Trans.\n",
      "           on Mathematical Software, 30(2), 2004, pp. 165--195.\n",
      "           https://dl.acm.org/doi/abs/10.1145/992200.992205\n",
      "    \n",
      "    .. [5] T. A. Davis and I. S. Duff, A combined unifrontal/multifrontal\n",
      "           method for unsymmetric sparse matrices, ACM Trans. on\n",
      "           Mathematical Software, 25(1), 1999, pp. 1--19.\n",
      "           https://doi.org/10.1145/305658.287640\n",
      "    \n",
      "    .. [6] T. A. Davis and I. S. Duff, An unsymmetric-pattern multifrontal\n",
      "           method for sparse LU factorization, SIAM J. Matrix Analysis and\n",
      "           Computations, 18(1), 1997, pp. 140--158.\n",
      "           https://doi.org/10.1137/S0895479894246905T.\n",
      "    \n",
      "    \n",
      "    Examples\n",
      "    --------\n",
      "    >>> import numpy as np\n",
      "    >>> from scipy.sparse import csc_matrix\n",
      "    >>> from scipy.sparse.linalg import spsolve\n",
      "    >>> A = csc_matrix([[3, 2, 0], [1, -1, 0], [0, 5, 1]], dtype=float)\n",
      "    >>> B = csc_matrix([[2, 0], [-1, 0], [2, 0]], dtype=float)\n",
      "    >>> x = spsolve(A, B)\n",
      "    >>> np.allclose(A.dot(x).toarray(), B.toarray())\n",
      "    True\n",
      "\n"
     ]
    }
   ],
   "source": [
    "from scipy.sparse.linalg import spsolve\n",
    "help(spsolve)"
   ]
  },
  {
   "cell_type": "code",
   "execution_count": 7,
   "metadata": {},
   "outputs": [
    {
     "name": "stderr",
     "output_type": "stream",
     "text": [
      "ic| type(solver.H_pot): <class 'scipy.sparse._dia.dia_matrix'>\n"
     ]
    },
    {
     "data": {
      "text/plain": [
       "scipy.sparse._dia.dia_matrix"
      ]
     },
     "execution_count": 7,
     "metadata": {},
     "output_type": "execute_result"
    }
   ],
   "source": [
    "ic(type(solver.H_pot))"
   ]
  },
  {
   "cell_type": "code",
   "execution_count": 13,
   "metadata": {},
   "outputs": [
    {
     "data": {
      "text/plain": [
       "2.8284271247461894"
      ]
     },
     "execution_count": 13,
     "metadata": {},
     "output_type": "execute_result"
    }
   ],
   "source": [
    "978.4300278041296/345.92725378842124"
   ]
  },
  {
   "cell_type": "code",
   "execution_count": 4,
   "metadata": {},
   "outputs": [
    {
     "name": "stdout",
     "output_type": "stream",
     "text": [
      "Help on _ArrayFunctionDispatcher in module numpy:\n",
      "\n",
      "tile(A, reps)\n",
      "    Construct an array by repeating A the number of times given by reps.\n",
      "    \n",
      "    If `reps` has length ``d``, the result will have dimension of\n",
      "    ``max(d, A.ndim)``.\n",
      "    \n",
      "    If ``A.ndim < d``, `A` is promoted to be d-dimensional by prepending new\n",
      "    axes. So a shape (3,) array is promoted to (1, 3) for 2-D replication,\n",
      "    or shape (1, 1, 3) for 3-D replication. If this is not the desired\n",
      "    behavior, promote `A` to d-dimensions manually before calling this\n",
      "    function.\n",
      "    \n",
      "    If ``A.ndim > d``, `reps` is promoted to `A`.ndim by pre-pending 1's to it.\n",
      "    Thus for an `A` of shape (2, 3, 4, 5), a `reps` of (2, 2) is treated as\n",
      "    (1, 1, 2, 2).\n",
      "    \n",
      "    Note : Although tile may be used for broadcasting, it is strongly\n",
      "    recommended to use numpy's broadcasting operations and functions.\n",
      "    \n",
      "    Parameters\n",
      "    ----------\n",
      "    A : array_like\n",
      "        The input array.\n",
      "    reps : array_like\n",
      "        The number of repetitions of `A` along each axis.\n",
      "    \n",
      "    Returns\n",
      "    -------\n",
      "    c : ndarray\n",
      "        The tiled output array.\n",
      "    \n",
      "    See Also\n",
      "    --------\n",
      "    repeat : Repeat elements of an array.\n",
      "    broadcast_to : Broadcast an array to a new shape\n",
      "    \n",
      "    Examples\n",
      "    --------\n",
      "    >>> a = np.array([0, 1, 2])\n",
      "    >>> np.tile(a, 2)\n",
      "    array([0, 1, 2, 0, 1, 2])\n",
      "    >>> np.tile(a, (2, 2))\n",
      "    array([[0, 1, 2, 0, 1, 2],\n",
      "           [0, 1, 2, 0, 1, 2]])\n",
      "    >>> np.tile(a, (2, 1, 2))\n",
      "    array([[[0, 1, 2, 0, 1, 2]],\n",
      "           [[0, 1, 2, 0, 1, 2]]])\n",
      "    \n",
      "    >>> b = np.array([[1, 2], [3, 4]])\n",
      "    >>> np.tile(b, 2)\n",
      "    array([[1, 2, 1, 2],\n",
      "           [3, 4, 3, 4]])\n",
      "    >>> np.tile(b, (2, 1))\n",
      "    array([[1, 2],\n",
      "           [3, 4],\n",
      "           [1, 2],\n",
      "           [3, 4]])\n",
      "    \n",
      "    >>> c = np.array([1,2,3,4])\n",
      "    >>> np.tile(c,(4,1))\n",
      "    array([[1, 2, 3, 4],\n",
      "           [1, 2, 3, 4],\n",
      "           [1, 2, 3, 4],\n",
      "           [1, 2, 3, 4]])\n",
      "\n"
     ]
    }
   ],
   "source": [
    "help(np.tile)"
   ]
  },
  {
   "cell_type": "code",
   "execution_count": null,
   "metadata": {},
   "outputs": [],
   "source": []
  }
 ],
 "metadata": {
  "kernelspec": {
   "display_name": "base",
   "language": "python",
   "name": "python3"
  },
  "language_info": {
   "codemirror_mode": {
    "name": "ipython",
    "version": 3
   },
   "file_extension": ".py",
   "mimetype": "text/x-python",
   "name": "python",
   "nbconvert_exporter": "python",
   "pygments_lexer": "ipython3",
   "version": "3.10.12"
  }
 },
 "nbformat": 4,
 "nbformat_minor": 2
}
